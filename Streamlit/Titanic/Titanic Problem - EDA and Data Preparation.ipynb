{
 "cells": [
  {
   "cell_type": "code",
   "execution_count": 1,
   "metadata": {
    "ExecuteTime": {
     "end_time": "2021-08-03T20:37:58.674975Z",
     "start_time": "2021-08-03T20:37:57.119206Z"
    }
   },
   "outputs": [],
   "source": [
    "import pandas as pd\n",
    "import numpy as np\n",
    "import seaborn as sns\n",
    "import matplotlib.pyplot as plt \n",
    "%matplotlib inline\n",
    "sns.set_palette('Set2')\n",
    "from sklearn.model_selection import train_test_split\n",
    "\n",
    "from IPython.core.interactiveshell import InteractiveShell\n",
    "InteractiveShell.ast_node_interactivity = \"all\"\n",
    "pd.set_option('display.max_columns', None)\n",
    "pd.set_option('display.max_rows', None)"
   ]
  },
  {
   "cell_type": "code",
   "execution_count": 2,
   "metadata": {
    "ExecuteTime": {
     "end_time": "2021-08-03T20:37:58.688608Z",
     "start_time": "2021-08-03T20:37:58.676481Z"
    }
   },
   "outputs": [],
   "source": [
    "train=pd.read_csv(r\"data/train.csv\")\n",
    "test=pd.read_csv(r\"data/test.csv\")\n",
    "y_test=pd.read_csv(r\"data/gender_submission.csv\")"
   ]
  },
  {
   "cell_type": "code",
   "execution_count": 6,
   "metadata": {
    "ExecuteTime": {
     "end_time": "2021-08-03T19:23:48.434097Z",
     "start_time": "2021-08-03T19:23:48.422632Z"
    }
   },
   "outputs": [
    {
     "data": {
      "text/html": [
       "<div>\n",
       "<style scoped>\n",
       "    .dataframe tbody tr th:only-of-type {\n",
       "        vertical-align: middle;\n",
       "    }\n",
       "\n",
       "    .dataframe tbody tr th {\n",
       "        vertical-align: top;\n",
       "    }\n",
       "\n",
       "    .dataframe thead th {\n",
       "        text-align: right;\n",
       "    }\n",
       "</style>\n",
       "<table border=\"1\" class=\"dataframe\">\n",
       "  <thead>\n",
       "    <tr style=\"text-align: right;\">\n",
       "      <th></th>\n",
       "      <th>PassengerId</th>\n",
       "      <th>Survived</th>\n",
       "    </tr>\n",
       "  </thead>\n",
       "  <tbody>\n",
       "    <tr>\n",
       "      <th>0</th>\n",
       "      <td>892</td>\n",
       "      <td>0</td>\n",
       "    </tr>\n",
       "    <tr>\n",
       "      <th>1</th>\n",
       "      <td>893</td>\n",
       "      <td>1</td>\n",
       "    </tr>\n",
       "    <tr>\n",
       "      <th>2</th>\n",
       "      <td>894</td>\n",
       "      <td>0</td>\n",
       "    </tr>\n",
       "    <tr>\n",
       "      <th>3</th>\n",
       "      <td>895</td>\n",
       "      <td>0</td>\n",
       "    </tr>\n",
       "    <tr>\n",
       "      <th>4</th>\n",
       "      <td>896</td>\n",
       "      <td>1</td>\n",
       "    </tr>\n",
       "  </tbody>\n",
       "</table>\n",
       "</div>"
      ],
      "text/plain": [
       "   PassengerId  Survived\n",
       "0          892         0\n",
       "1          893         1\n",
       "2          894         0\n",
       "3          895         0\n",
       "4          896         1"
      ]
     },
     "execution_count": 6,
     "metadata": {},
     "output_type": "execute_result"
    }
   ],
   "source": [
    "y_test.head()"
   ]
  },
  {
   "cell_type": "code",
   "execution_count": 7,
   "metadata": {
    "ExecuteTime": {
     "end_time": "2021-08-03T19:23:50.971245Z",
     "start_time": "2021-08-03T19:23:50.949653Z"
    },
    "scrolled": true
   },
   "outputs": [
    {
     "data": {
      "text/html": [
       "<div>\n",
       "<style scoped>\n",
       "    .dataframe tbody tr th:only-of-type {\n",
       "        vertical-align: middle;\n",
       "    }\n",
       "\n",
       "    .dataframe tbody tr th {\n",
       "        vertical-align: top;\n",
       "    }\n",
       "\n",
       "    .dataframe thead th {\n",
       "        text-align: right;\n",
       "    }\n",
       "</style>\n",
       "<table border=\"1\" class=\"dataframe\">\n",
       "  <thead>\n",
       "    <tr style=\"text-align: right;\">\n",
       "      <th></th>\n",
       "      <th>PassengerId</th>\n",
       "      <th>Survived</th>\n",
       "      <th>Pclass</th>\n",
       "      <th>Name</th>\n",
       "      <th>Sex</th>\n",
       "      <th>Age</th>\n",
       "      <th>SibSp</th>\n",
       "      <th>Parch</th>\n",
       "      <th>Ticket</th>\n",
       "      <th>Fare</th>\n",
       "      <th>Cabin</th>\n",
       "      <th>Embarked</th>\n",
       "    </tr>\n",
       "  </thead>\n",
       "  <tbody>\n",
       "    <tr>\n",
       "      <th>0</th>\n",
       "      <td>1</td>\n",
       "      <td>0</td>\n",
       "      <td>3</td>\n",
       "      <td>Braund, Mr. Owen Harris</td>\n",
       "      <td>male</td>\n",
       "      <td>22.0</td>\n",
       "      <td>1</td>\n",
       "      <td>0</td>\n",
       "      <td>A/5 21171</td>\n",
       "      <td>7.2500</td>\n",
       "      <td>NaN</td>\n",
       "      <td>S</td>\n",
       "    </tr>\n",
       "    <tr>\n",
       "      <th>1</th>\n",
       "      <td>2</td>\n",
       "      <td>1</td>\n",
       "      <td>1</td>\n",
       "      <td>Cumings, Mrs. John Bradley (Florence Briggs Th...</td>\n",
       "      <td>female</td>\n",
       "      <td>38.0</td>\n",
       "      <td>1</td>\n",
       "      <td>0</td>\n",
       "      <td>PC 17599</td>\n",
       "      <td>71.2833</td>\n",
       "      <td>C85</td>\n",
       "      <td>C</td>\n",
       "    </tr>\n",
       "    <tr>\n",
       "      <th>2</th>\n",
       "      <td>3</td>\n",
       "      <td>1</td>\n",
       "      <td>3</td>\n",
       "      <td>Heikkinen, Miss. Laina</td>\n",
       "      <td>female</td>\n",
       "      <td>26.0</td>\n",
       "      <td>0</td>\n",
       "      <td>0</td>\n",
       "      <td>STON/O2. 3101282</td>\n",
       "      <td>7.9250</td>\n",
       "      <td>NaN</td>\n",
       "      <td>S</td>\n",
       "    </tr>\n",
       "    <tr>\n",
       "      <th>3</th>\n",
       "      <td>4</td>\n",
       "      <td>1</td>\n",
       "      <td>1</td>\n",
       "      <td>Futrelle, Mrs. Jacques Heath (Lily May Peel)</td>\n",
       "      <td>female</td>\n",
       "      <td>35.0</td>\n",
       "      <td>1</td>\n",
       "      <td>0</td>\n",
       "      <td>113803</td>\n",
       "      <td>53.1000</td>\n",
       "      <td>C123</td>\n",
       "      <td>S</td>\n",
       "    </tr>\n",
       "    <tr>\n",
       "      <th>4</th>\n",
       "      <td>5</td>\n",
       "      <td>0</td>\n",
       "      <td>3</td>\n",
       "      <td>Allen, Mr. William Henry</td>\n",
       "      <td>male</td>\n",
       "      <td>35.0</td>\n",
       "      <td>0</td>\n",
       "      <td>0</td>\n",
       "      <td>373450</td>\n",
       "      <td>8.0500</td>\n",
       "      <td>NaN</td>\n",
       "      <td>S</td>\n",
       "    </tr>\n",
       "  </tbody>\n",
       "</table>\n",
       "</div>"
      ],
      "text/plain": [
       "   PassengerId  Survived  Pclass  \\\n",
       "0            1         0       3   \n",
       "1            2         1       1   \n",
       "2            3         1       3   \n",
       "3            4         1       1   \n",
       "4            5         0       3   \n",
       "\n",
       "                                                Name     Sex   Age  SibSp  \\\n",
       "0                            Braund, Mr. Owen Harris    male  22.0      1   \n",
       "1  Cumings, Mrs. John Bradley (Florence Briggs Th...  female  38.0      1   \n",
       "2                             Heikkinen, Miss. Laina  female  26.0      0   \n",
       "3       Futrelle, Mrs. Jacques Heath (Lily May Peel)  female  35.0      1   \n",
       "4                           Allen, Mr. William Henry    male  35.0      0   \n",
       "\n",
       "   Parch            Ticket     Fare Cabin Embarked  \n",
       "0      0         A/5 21171   7.2500   NaN        S  \n",
       "1      0          PC 17599  71.2833   C85        C  \n",
       "2      0  STON/O2. 3101282   7.9250   NaN        S  \n",
       "3      0            113803  53.1000  C123        S  \n",
       "4      0            373450   8.0500   NaN        S  "
      ]
     },
     "execution_count": 7,
     "metadata": {},
     "output_type": "execute_result"
    },
    {
     "data": {
      "text/html": [
       "<div>\n",
       "<style scoped>\n",
       "    .dataframe tbody tr th:only-of-type {\n",
       "        vertical-align: middle;\n",
       "    }\n",
       "\n",
       "    .dataframe tbody tr th {\n",
       "        vertical-align: top;\n",
       "    }\n",
       "\n",
       "    .dataframe thead th {\n",
       "        text-align: right;\n",
       "    }\n",
       "</style>\n",
       "<table border=\"1\" class=\"dataframe\">\n",
       "  <thead>\n",
       "    <tr style=\"text-align: right;\">\n",
       "      <th></th>\n",
       "      <th>PassengerId</th>\n",
       "      <th>Pclass</th>\n",
       "      <th>Name</th>\n",
       "      <th>Sex</th>\n",
       "      <th>Age</th>\n",
       "      <th>SibSp</th>\n",
       "      <th>Parch</th>\n",
       "      <th>Ticket</th>\n",
       "      <th>Fare</th>\n",
       "      <th>Cabin</th>\n",
       "      <th>Embarked</th>\n",
       "    </tr>\n",
       "  </thead>\n",
       "  <tbody>\n",
       "    <tr>\n",
       "      <th>0</th>\n",
       "      <td>892</td>\n",
       "      <td>3</td>\n",
       "      <td>Kelly, Mr. James</td>\n",
       "      <td>male</td>\n",
       "      <td>34.5</td>\n",
       "      <td>0</td>\n",
       "      <td>0</td>\n",
       "      <td>330911</td>\n",
       "      <td>7.8292</td>\n",
       "      <td>NaN</td>\n",
       "      <td>Q</td>\n",
       "    </tr>\n",
       "    <tr>\n",
       "      <th>1</th>\n",
       "      <td>893</td>\n",
       "      <td>3</td>\n",
       "      <td>Wilkes, Mrs. James (Ellen Needs)</td>\n",
       "      <td>female</td>\n",
       "      <td>47.0</td>\n",
       "      <td>1</td>\n",
       "      <td>0</td>\n",
       "      <td>363272</td>\n",
       "      <td>7.0000</td>\n",
       "      <td>NaN</td>\n",
       "      <td>S</td>\n",
       "    </tr>\n",
       "    <tr>\n",
       "      <th>2</th>\n",
       "      <td>894</td>\n",
       "      <td>2</td>\n",
       "      <td>Myles, Mr. Thomas Francis</td>\n",
       "      <td>male</td>\n",
       "      <td>62.0</td>\n",
       "      <td>0</td>\n",
       "      <td>0</td>\n",
       "      <td>240276</td>\n",
       "      <td>9.6875</td>\n",
       "      <td>NaN</td>\n",
       "      <td>Q</td>\n",
       "    </tr>\n",
       "    <tr>\n",
       "      <th>3</th>\n",
       "      <td>895</td>\n",
       "      <td>3</td>\n",
       "      <td>Wirz, Mr. Albert</td>\n",
       "      <td>male</td>\n",
       "      <td>27.0</td>\n",
       "      <td>0</td>\n",
       "      <td>0</td>\n",
       "      <td>315154</td>\n",
       "      <td>8.6625</td>\n",
       "      <td>NaN</td>\n",
       "      <td>S</td>\n",
       "    </tr>\n",
       "    <tr>\n",
       "      <th>4</th>\n",
       "      <td>896</td>\n",
       "      <td>3</td>\n",
       "      <td>Hirvonen, Mrs. Alexander (Helga E Lindqvist)</td>\n",
       "      <td>female</td>\n",
       "      <td>22.0</td>\n",
       "      <td>1</td>\n",
       "      <td>1</td>\n",
       "      <td>3101298</td>\n",
       "      <td>12.2875</td>\n",
       "      <td>NaN</td>\n",
       "      <td>S</td>\n",
       "    </tr>\n",
       "  </tbody>\n",
       "</table>\n",
       "</div>"
      ],
      "text/plain": [
       "   PassengerId  Pclass                                          Name     Sex  \\\n",
       "0          892       3                              Kelly, Mr. James    male   \n",
       "1          893       3              Wilkes, Mrs. James (Ellen Needs)  female   \n",
       "2          894       2                     Myles, Mr. Thomas Francis    male   \n",
       "3          895       3                              Wirz, Mr. Albert    male   \n",
       "4          896       3  Hirvonen, Mrs. Alexander (Helga E Lindqvist)  female   \n",
       "\n",
       "    Age  SibSp  Parch   Ticket     Fare Cabin Embarked  \n",
       "0  34.5      0      0   330911   7.8292   NaN        Q  \n",
       "1  47.0      1      0   363272   7.0000   NaN        S  \n",
       "2  62.0      0      0   240276   9.6875   NaN        Q  \n",
       "3  27.0      0      0   315154   8.6625   NaN        S  \n",
       "4  22.0      1      1  3101298  12.2875   NaN        S  "
      ]
     },
     "execution_count": 7,
     "metadata": {},
     "output_type": "execute_result"
    }
   ],
   "source": [
    "train.head()\n",
    "test.head()"
   ]
  },
  {
   "cell_type": "code",
   "execution_count": 7,
   "metadata": {
    "ExecuteTime": {
     "end_time": "2021-02-22T08:00:51.688615Z",
     "start_time": "2021-02-22T08:00:51.667158Z"
    }
   },
   "outputs": [
    {
     "data": {
      "text/html": [
       "<div>\n",
       "<style scoped>\n",
       "    .dataframe tbody tr th:only-of-type {\n",
       "        vertical-align: middle;\n",
       "    }\n",
       "\n",
       "    .dataframe tbody tr th {\n",
       "        vertical-align: top;\n",
       "    }\n",
       "\n",
       "    .dataframe thead th {\n",
       "        text-align: right;\n",
       "    }\n",
       "</style>\n",
       "<table border=\"1\" class=\"dataframe\">\n",
       "  <thead>\n",
       "    <tr style=\"text-align: right;\">\n",
       "      <th></th>\n",
       "      <th>PassengerId</th>\n",
       "      <th>Survived</th>\n",
       "      <th>Pclass</th>\n",
       "      <th>Age</th>\n",
       "      <th>SibSp</th>\n",
       "      <th>Parch</th>\n",
       "      <th>Fare</th>\n",
       "    </tr>\n",
       "  </thead>\n",
       "  <tbody>\n",
       "    <tr>\n",
       "      <th>count</th>\n",
       "      <td>891.000000</td>\n",
       "      <td>891.000000</td>\n",
       "      <td>891.000000</td>\n",
       "      <td>714.000000</td>\n",
       "      <td>891.000000</td>\n",
       "      <td>891.000000</td>\n",
       "      <td>891.000000</td>\n",
       "    </tr>\n",
       "    <tr>\n",
       "      <th>mean</th>\n",
       "      <td>446.000000</td>\n",
       "      <td>0.383838</td>\n",
       "      <td>2.308642</td>\n",
       "      <td>29.699118</td>\n",
       "      <td>0.523008</td>\n",
       "      <td>0.381594</td>\n",
       "      <td>32.204208</td>\n",
       "    </tr>\n",
       "    <tr>\n",
       "      <th>std</th>\n",
       "      <td>257.353842</td>\n",
       "      <td>0.486592</td>\n",
       "      <td>0.836071</td>\n",
       "      <td>14.526497</td>\n",
       "      <td>1.102743</td>\n",
       "      <td>0.806057</td>\n",
       "      <td>49.693429</td>\n",
       "    </tr>\n",
       "    <tr>\n",
       "      <th>min</th>\n",
       "      <td>1.000000</td>\n",
       "      <td>0.000000</td>\n",
       "      <td>1.000000</td>\n",
       "      <td>0.420000</td>\n",
       "      <td>0.000000</td>\n",
       "      <td>0.000000</td>\n",
       "      <td>0.000000</td>\n",
       "    </tr>\n",
       "    <tr>\n",
       "      <th>25%</th>\n",
       "      <td>223.500000</td>\n",
       "      <td>0.000000</td>\n",
       "      <td>2.000000</td>\n",
       "      <td>20.125000</td>\n",
       "      <td>0.000000</td>\n",
       "      <td>0.000000</td>\n",
       "      <td>7.910400</td>\n",
       "    </tr>\n",
       "    <tr>\n",
       "      <th>50%</th>\n",
       "      <td>446.000000</td>\n",
       "      <td>0.000000</td>\n",
       "      <td>3.000000</td>\n",
       "      <td>28.000000</td>\n",
       "      <td>0.000000</td>\n",
       "      <td>0.000000</td>\n",
       "      <td>14.454200</td>\n",
       "    </tr>\n",
       "    <tr>\n",
       "      <th>75%</th>\n",
       "      <td>668.500000</td>\n",
       "      <td>1.000000</td>\n",
       "      <td>3.000000</td>\n",
       "      <td>38.000000</td>\n",
       "      <td>1.000000</td>\n",
       "      <td>0.000000</td>\n",
       "      <td>31.000000</td>\n",
       "    </tr>\n",
       "    <tr>\n",
       "      <th>max</th>\n",
       "      <td>891.000000</td>\n",
       "      <td>1.000000</td>\n",
       "      <td>3.000000</td>\n",
       "      <td>80.000000</td>\n",
       "      <td>8.000000</td>\n",
       "      <td>6.000000</td>\n",
       "      <td>512.329200</td>\n",
       "    </tr>\n",
       "  </tbody>\n",
       "</table>\n",
       "</div>"
      ],
      "text/plain": [
       "       PassengerId    Survived      Pclass         Age       SibSp  \\\n",
       "count   891.000000  891.000000  891.000000  714.000000  891.000000   \n",
       "mean    446.000000    0.383838    2.308642   29.699118    0.523008   \n",
       "std     257.353842    0.486592    0.836071   14.526497    1.102743   \n",
       "min       1.000000    0.000000    1.000000    0.420000    0.000000   \n",
       "25%     223.500000    0.000000    2.000000   20.125000    0.000000   \n",
       "50%     446.000000    0.000000    3.000000   28.000000    0.000000   \n",
       "75%     668.500000    1.000000    3.000000   38.000000    1.000000   \n",
       "max     891.000000    1.000000    3.000000   80.000000    8.000000   \n",
       "\n",
       "            Parch        Fare  \n",
       "count  891.000000  891.000000  \n",
       "mean     0.381594   32.204208  \n",
       "std      0.806057   49.693429  \n",
       "min      0.000000    0.000000  \n",
       "25%      0.000000    7.910400  \n",
       "50%      0.000000   14.454200  \n",
       "75%      0.000000   31.000000  \n",
       "max      6.000000  512.329200  "
      ]
     },
     "execution_count": 7,
     "metadata": {},
     "output_type": "execute_result"
    }
   ],
   "source": [
    "train.describe()"
   ]
  },
  {
   "cell_type": "code",
   "execution_count": 8,
   "metadata": {
    "ExecuteTime": {
     "end_time": "2021-02-22T08:00:51.693877Z",
     "start_time": "2021-02-22T08:00:51.689625Z"
    },
    "scrolled": true
   },
   "outputs": [
    {
     "data": {
      "text/plain": [
       "PassengerId      0\n",
       "Pclass           0\n",
       "Name             0\n",
       "Sex              0\n",
       "Age             86\n",
       "SibSp            0\n",
       "Parch            0\n",
       "Ticket           0\n",
       "Fare             1\n",
       "Cabin          327\n",
       "Embarked         0\n",
       "dtype: int64"
      ]
     },
     "execution_count": 8,
     "metadata": {},
     "output_type": "execute_result"
    }
   ],
   "source": [
    "test.isna().sum()"
   ]
  },
  {
   "cell_type": "code",
   "execution_count": 9,
   "metadata": {
    "ExecuteTime": {
     "end_time": "2021-02-22T08:00:51.720457Z",
     "start_time": "2021-02-22T08:00:51.694916Z"
    }
   },
   "outputs": [
    {
     "data": {
      "text/plain": [
       "0    61.616162\n",
       "1    38.383838\n",
       "Name: Survived, dtype: float64"
      ]
     },
     "execution_count": 9,
     "metadata": {},
     "output_type": "execute_result"
    }
   ],
   "source": [
    "# % PEOPLE SERVIVED\n",
    "\n",
    "train.Survived.value_counts(sorted)*100"
   ]
  },
  {
   "cell_type": "markdown",
   "metadata": {},
   "source": [
    "## Missing Value Analysis"
   ]
  },
  {
   "cell_type": "code",
   "execution_count": 10,
   "metadata": {
    "ExecuteTime": {
     "end_time": "2021-02-22T08:00:52.005445Z",
     "start_time": "2021-02-22T08:00:51.722436Z"
    }
   },
   "outputs": [
    {
     "data": {
      "image/png": "[encoded data removed]",
      "text/plain": [
       "<Figure size 1440x720 with 2 Axes>"
      ]
     },
     "metadata": {
      "needs_background": "light"
     },
     "output_type": "display_data"
    }
   ],
   "source": [
    "#train\n",
    "try :\n",
    "    plt.figure(figsize=(20,10))\n",
    "    plt.subplot(1,2,1)\n",
    "    y=train.isna().sum().loc[(train.isna().sum().sort_values(ascending=False))>0].apply(lambda x:x/len(train)).sort_values(ascending=False)\n",
    "    y.plot(kind='bar')\n",
    "    title = '% Missing Values by fields in Train'\n",
    "    ax=y.plot(kind='bar',title=title)\n",
    "    plt.title(title,fontsize=20)\n",
    "    plt.xticks(fontsize=15)\n",
    "    for i in range(0,len(y)):\n",
    "        ax.annotate(round(y.iloc[i,]*100,1), xy =(i, y.iloc[i]/2),size=14)\n",
    "\n",
    "    plt.subplot(1,2,2)\n",
    "    y=test.isna().sum().loc[(test.isna().sum().sort_values(ascending=False))>0].apply(lambda x:x/len(test)).sort_values(ascending=False)\n",
    "    y.plot(kind='bar')\n",
    "    title = '% Missing Values by fields in Train'\n",
    "    ax=y.plot(kind='bar',title=title)\n",
    "    for i in range(0,len(y)):\n",
    "        ax.annotate(round(y.iloc[i,]*100,1), xy =(i, y.iloc[i]/2),size=14)\n",
    "except:\n",
    "    print('')\n",
    "plt.title(title,fontsize=20)\n",
    "plt.xticks(fontsize=15)\n",
    "plt.plot();"
   ]
  },
  {
   "cell_type": "markdown",
   "metadata": {
    "ExecuteTime": {
     "end_time": "2021-02-22T07:56:03.723396Z",
     "start_time": "2021-02-22T07:56:03.721122Z"
    },
    "scrolled": false
   },
   "source": [
    "## categorical feature analysis :"
   ]
  },
  {
   "cell_type": "code",
   "execution_count": 11,
   "metadata": {
    "ExecuteTime": {
     "end_time": "2021-02-22T08:00:52.934619Z",
     "start_time": "2021-02-22T08:00:52.007230Z"
    },
    "scrolled": false
   },
   "outputs": [
    {
     "name": "stdout",
     "output_type": "stream",
     "text": [
      "\n"
     ]
    },
    {
     "data": {
      "image/png": "[encoded data removed]",
      "text/plain": [
       "<Figure size 2160x2160 with 7 Axes>"
      ]
     },
     "metadata": {
      "needs_background": "light"
     },
     "output_type": "display_data"
    }
   ],
   "source": [
    "try:\n",
    "    plt.figure(figsize=(30,30))\n",
    "    plt.subplot(3,3,1)\n",
    "    ax = sns.countplot(y=train.Survived, data=train)\n",
    "    plt.title('Distribution of Survived',fontsize=20)\n",
    "    plt.xlabel('Number of passengers')\n",
    "    total = len(train['Survived'])\n",
    "    for p in ax.patches:\n",
    "            percentage = '{:.1f}%'.format(100 * p.get_width()/total)\n",
    "            x = p.get_x() + p.get_width() + 0.02\n",
    "            y = p.get_y() + p.get_height()/2\n",
    "            ax.annotate(percentage, (x, y),fontsize=20)\n",
    "\n",
    "\n",
    "    plt.subplot(3,3,2)\n",
    "    ax = sns.countplot(y=train.Pclass, data=train)\n",
    "    plt.title('Distribution of  Pclass',fontsize=20)\n",
    "    plt.xlabel('Number of passengers')\n",
    "\n",
    "    total = len(train['Pclass'])\n",
    "    for p in ax.patches:\n",
    "            percentage = '{:.1f}%'.format(100 * p.get_width()/total)\n",
    "            x = p.get_x() + p.get_width() + 0.02\n",
    "            y = p.get_y() + p.get_height()/2\n",
    "            ax.annotate(percentage, (x, y),fontsize=20)\n",
    "\n",
    "    plt.subplot(3,3,3)     \n",
    "    ax = sns.countplot(y=train.Sex, data=train)\n",
    "    plt.title('Distribution of Sex ')\n",
    "    plt.xlabel('Number of passengers')\n",
    "\n",
    "    total = len(train['Sex'])\n",
    "    for p in ax.patches:\n",
    "            percentage = '{:.1f}%'.format(100 * p.get_width()/total)\n",
    "            x = p.get_x() + p.get_width() + 0.02\n",
    "            y = p.get_y() + p.get_height()/2\n",
    "            ax.annotate(percentage, (x, y),fontsize=20)\n",
    "\n",
    "    plt.subplot(3,3,4)   \n",
    "    ax = sns.countplot(y=train.SibSp, data=train)\n",
    "    plt.title('Distribution of Number of Siblings/Spouses ',fontsize=20)\n",
    "    plt.xlabel('Number of passengers')\n",
    "\n",
    "    total = len(train['SibSp'])\n",
    "    for p in ax.patches:\n",
    "            percentage = '{:.1f}%'.format(100 * p.get_width()/total)\n",
    "            x = p.get_x() + p.get_width() + 0.02\n",
    "            y = p.get_y() + p.get_height()/2\n",
    "            ax.annotate(percentage, (x, y),fontsize=20)\n",
    "\n",
    "    plt.subplot(3,3,5)        \n",
    "    ax = sns.countplot(y=train.Parch, data=train)\n",
    "    plt.title('Distribution of Number of Parent/children',fontsize=20)\n",
    "    plt.xlabel('Number of passengers')\n",
    "\n",
    "    total = len(train['Parch'])\n",
    "    for p in ax.patches:\n",
    "            percentage = '{:.1f}%'.format(100 * p.get_width()/total)\n",
    "            x = p.get_x() + p.get_width() + 0.02\n",
    "            y = p.get_y() + p.get_height()/2\n",
    "            ax.annotate(percentage, (x, y),fontsize=20)\n",
    "\n",
    "    plt.subplot(3,3,6)  \n",
    "    ax = sns.countplot(y=train.Embarked, data=train)\n",
    "    plt.title('Distribution of Boarding points',fontsize=20)\n",
    "    plt.xlabel('Number of passengers')\n",
    "\n",
    "    total = len(train['Embarked'])\n",
    "    for p in ax.patches:\n",
    "            percentage = '{:.1f}%'.format(100 * p.get_width()/total)\n",
    "            x = p.get_x() + p.get_width() + 0.02\n",
    "            y = p.get_y() + p.get_height()/2\n",
    "            ax.annotate(percentage, (x, y),fontsize=20)\n",
    "\n",
    "    plt.subplot(3,3,7)        \n",
    "    ax = sns.countplot(y=train_v2.Cabin_flag, data=train)\n",
    "    plt.title('Distribution Cabin/Non-cabin passengers',fontsize=20)\n",
    "    plt.xlabel('Number of passengers')\n",
    "\n",
    "    total = len(train_v2['Cabin_flag'])\n",
    "    for p in ax.patches:\n",
    "            percentage = '{:.1f}%'.format(100 * p.get_width()/total)\n",
    "            x = p.get_x() + p.get_width() + 0.02\n",
    "            y = p.get_y() + p.get_height()/2\n",
    "            ax.annotate(percentage, (x, y),fontsize=20)\n",
    "\n",
    "except:\n",
    "    print('')\n",
    "\n",
    "plt.xticks(fontsize=15)\n",
    "plt.plot();"
   ]
  },
  {
   "cell_type": "code",
   "execution_count": 12,
   "metadata": {
    "ExecuteTime": {
     "end_time": "2021-02-22T08:00:52.937985Z",
     "start_time": "2021-02-22T08:00:52.935648Z"
    }
   },
   "outputs": [],
   "source": [
    "train_v2=train.copy()\n",
    "test_v2=test.copy()"
   ]
  },
  {
   "cell_type": "code",
   "execution_count": 13,
   "metadata": {
    "ExecuteTime": {
     "end_time": "2021-02-22T08:00:52.943947Z",
     "start_time": "2021-02-22T08:00:52.939170Z"
    }
   },
   "outputs": [
    {
     "data": {
      "text/plain": [
       "'cabin flag'"
      ]
     },
     "execution_count": 13,
     "metadata": {},
     "output_type": "execute_result"
    }
   ],
   "source": [
    "'''cabin flag'''\n",
    "train_v2['Cabin_flag']=np.where(train_v2.Cabin.isnull(),0,1)\n",
    "test_v2['Cabin_flag']=np.where(test_v2.Cabin.isnull(),0,1)"
   ]
  },
  {
   "cell_type": "code",
   "execution_count": 14,
   "metadata": {
    "ExecuteTime": {
     "end_time": "2021-02-22T08:00:52.947563Z",
     "start_time": "2021-02-22T08:00:52.944924Z"
    }
   },
   "outputs": [
    {
     "data": {
      "text/plain": [
       "'Gender flag'"
      ]
     },
     "execution_count": 14,
     "metadata": {},
     "output_type": "execute_result"
    }
   ],
   "source": [
    "\"\"\"Gender flag\"\"\"\n",
    "# train_v2['Gender']=np.where(train_v2.Sex=='male',1,0)\n",
    "# test_v2['Gender']=np.where(test_v2.Sex=='male',1,0)\n"
   ]
  },
  {
   "cell_type": "code",
   "execution_count": 15,
   "metadata": {
    "ExecuteTime": {
     "end_time": "2021-02-22T08:00:53.066662Z",
     "start_time": "2021-02-22T08:00:52.948652Z"
    }
   },
   "outputs": [
    {
     "data": {
      "text/plain": [
       "<matplotlib.axes._subplots.AxesSubplot at 0x12440c970>"
      ]
     },
     "execution_count": 15,
     "metadata": {},
     "output_type": "execute_result"
    },
    {
     "data": {
      "image/png": "[encoded data removed]",
      "text/plain": [
       "<Figure size 432x288 with 1 Axes>"
      ]
     },
     "metadata": {
      "needs_background": "light"
     },
     "output_type": "display_data"
    }
   ],
   "source": [
    "sns.distplot(train.Age)"
   ]
  },
  {
   "cell_type": "markdown",
   "metadata": {},
   "source": [
    "## Categorical variables vs Survived"
   ]
  },
  {
   "cell_type": "code",
   "execution_count": 16,
   "metadata": {
    "ExecuteTime": {
     "end_time": "2021-02-22T08:00:53.070886Z",
     "start_time": "2021-02-22T08:00:53.067849Z"
    }
   },
   "outputs": [],
   "source": [
    "train['Cabin_flag']=np.where(train.Cabin.isnull(),0,1)"
   ]
  },
  {
   "cell_type": "code",
   "execution_count": 17,
   "metadata": {
    "ExecuteTime": {
     "end_time": "2021-02-22T08:00:53.774911Z",
     "start_time": "2021-02-22T08:00:53.072418Z"
    }
   },
   "outputs": [
    {
     "data": {
      "image/png": "[encoded data removed]",
      "text/plain": [
       "<Figure size 2880x3240 with 6 Axes>"
      ]
     },
     "metadata": {
      "needs_background": "light"
     },
     "output_type": "display_data"
    }
   ],
   "source": [
    "y_vars=['Survived']\n",
    "x_vars=['Pclass', 'Sex',  'SibSp',  'Parch', 'Cabin_flag', 'Embarked']\n",
    "\n",
    "\"\"\"Plotting after combining cats\"\"\"\n",
    "try:\n",
    "\n",
    "    figsize=(40,45) #dynamic figure size\n",
    "    plt.figure(figsize=figsize);\n",
    "\n",
    "\n",
    "    for j in y_vars:\n",
    "        for i in x_vars:\n",
    "            title= ' % '+ j+' by '+i\n",
    "            plt.subplot(round(len(x_vars)/2),3,x_vars.index(i)+1)\n",
    "            y=round((train.groupby(i)[j].sum().round().astype(int).sort_values()/sum(train.Survived))*100,2)\n",
    "            ax=y.plot(kind='bar',title=title)\n",
    "            plt.title(title,fontsize=30)\n",
    "            plt.xticks(fontsize=25)\n",
    "            for k in range(0,len(y)):\n",
    "                ax.annotate(y.iloc[k], xy =(k, y.iloc[k]/2),size=20);\n",
    "    \n",
    "except:\n",
    "    print('')\n",
    "plt.title(title,fontsize=30)\n",
    "plt.xticks(fontsize=25)\n",
    "plt.plot();"
   ]
  },
  {
   "cell_type": "markdown",
   "metadata": {},
   "source": [
    "### Further Analysis on Categorical variables"
   ]
  },
  {
   "cell_type": "code",
   "execution_count": 18,
   "metadata": {
    "ExecuteTime": {
     "end_time": "2021-02-22T08:00:53.907865Z",
     "start_time": "2021-02-22T08:00:53.776120Z"
    }
   },
   "outputs": [
    {
     "data": {
      "image/png": "[encoded data removed]",
      "text/plain": [
       "<Figure size 432x288 with 2 Axes>"
      ]
     },
     "metadata": {
      "needs_background": "light"
     },
     "output_type": "display_data"
    }
   ],
   "source": [
    "\n",
    "pd.crosstab(train_v2.Survived,train_v2.Cabin_flag,normalize='index')\n",
    "sns.heatmap(pd.crosstab(train_v2.Survived,train_v2.Cabin_flag,normalize='columns'),annot=True,cmap='viridis')\n",
    "plt.title('% Survived in Cabin/Non-cabin');"
   ]
  },
  {
   "cell_type": "code",
   "execution_count": 19,
   "metadata": {
    "ExecuteTime": {
     "end_time": "2021-02-22T08:00:54.018760Z",
     "start_time": "2021-02-22T08:00:53.909066Z"
    }
   },
   "outputs": [
    {
     "data": {
      "image/png": "[encoded data removed]",
      "text/plain": [
       "<Figure size 432x288 with 2 Axes>"
      ]
     },
     "metadata": {
      "needs_background": "light"
     },
     "output_type": "display_data"
    }
   ],
   "source": [
    "sns.heatmap(pd.crosstab(train_v2.Survived,train_v2.Sex,normalize='columns'),annot=True,cmap='viridis')\n",
    "plt.title('% Survived by Gender');\n"
   ]
  },
  {
   "cell_type": "markdown",
   "metadata": {
    "ExecuteTime": {
     "end_time": "2021-01-12T18:48:20.808565Z",
     "start_time": "2021-01-12T18:48:20.201267Z"
    },
    "scrolled": true
   },
   "source": [
    "### Numerical Variable Analysis - CORRELATION PLOT"
   ]
  },
  {
   "cell_type": "code",
   "execution_count": 20,
   "metadata": {
    "ExecuteTime": {
     "end_time": "2021-02-22T08:00:54.281686Z",
     "start_time": "2021-02-22T08:00:54.019910Z"
    },
    "scrolled": false
   },
   "outputs": [
    {
     "data": {
      "image/png": "[encoded data removed]",
      "text/plain": [
       "<Figure size 1080x720 with 2 Axes>"
      ]
     },
     "metadata": {
      "needs_background": "light"
     },
     "output_type": "display_data"
    }
   ],
   "source": [
    "x= train_v2.select_dtypes(include=[np.number])#to check only numeric columns\n",
    "x.corr() \n",
    "\n",
    "corr = train_v2.corr()\n",
    "plt.figure(figsize=(15,10)) \n",
    "ax=sns.heatmap(corr, \n",
    "            xticklabels=corr.columns.values,\n",
    "            yticklabels=corr.columns.values,\n",
    "           cmap='viridis', annot=True)\n",
    "plt.show()\n",
    "\n",
    "bottom, top = ax.get_ylim()\n",
    "ax.set_ylim(bottom + 0.5, top - 0.5);\n",
    "\n",
    "\n",
    "#High negative correl between pclass and cabin means that a passenger in 1st class facility had cabin --we can chose one out of them \n",
    "#high neg correl btween plcass and fare, good class(1st) ->good price ->we can chose one\n",
    "#out of the above 3 cabin flag makes the most sense to keep because it is has better correl with the survived passengers\n",
    "#strong neg correl in gender and survived indicates that more number of females survived"
   ]
  },
  {
   "cell_type": "markdown",
   "metadata": {},
   "source": [
    "## Data Imputation "
   ]
  },
  {
   "cell_type": "code",
   "execution_count": 21,
   "metadata": {
    "ExecuteTime": {
     "end_time": "2021-02-22T08:00:54.358751Z",
     "start_time": "2021-02-22T08:00:54.282814Z"
    }
   },
   "outputs": [
    {
     "data": {
      "text/plain": [
       "'\\nkNN Imputation for numerical missing features\\n'"
      ]
     },
     "execution_count": 21,
     "metadata": {},
     "output_type": "execute_result"
    }
   ],
   "source": [
    "'''\n",
    "kNN Imputation for numerical missing features\n",
    "'''\n",
    "from sklearn.impute import KNNImputer\n",
    "imputer = KNNImputer(n_neighbors=4, weights='distance')"
   ]
  },
  {
   "cell_type": "code",
   "execution_count": 22,
   "metadata": {
    "ExecuteTime": {
     "end_time": "2021-02-22T08:00:54.363960Z",
     "start_time": "2021-02-22T08:00:54.360056Z"
    }
   },
   "outputs": [],
   "source": [
    "#Numeric columns \n",
    "\n",
    "num_columns=list(train_v2.drop(columns=['PassengerId','Survived']).select_dtypes(include=np.number).columns)\n",
    "# df_numeric=train_v2[num_columns]\n"
   ]
  },
  {
   "cell_type": "code",
   "execution_count": 23,
   "metadata": {
    "ExecuteTime": {
     "end_time": "2021-02-22T08:00:54.394526Z",
     "start_time": "2021-02-22T08:00:54.365256Z"
    }
   },
   "outputs": [],
   "source": [
    "train_v3=pd.DataFrame(imputer.fit_transform(train_v2[num_columns])) \n",
    "test_v3=pd.DataFrame(imputer.fit_transform(test_v2[num_columns])) "
   ]
  },
  {
   "cell_type": "code",
   "execution_count": 25,
   "metadata": {
    "ExecuteTime": {
     "end_time": "2021-02-22T08:01:33.892120Z",
     "start_time": "2021-02-22T08:01:33.888458Z"
    }
   },
   "outputs": [
    {
     "data": {
      "text/plain": [
       "RangeIndex(start=0, stop=6, step=1)"
      ]
     },
     "execution_count": 25,
     "metadata": {},
     "output_type": "execute_result"
    }
   ],
   "source": [
    "train_v3.columns"
   ]
  },
  {
   "cell_type": "code",
   "execution_count": 26,
   "metadata": {
    "ExecuteTime": {
     "end_time": "2021-02-22T08:01:37.145346Z",
     "start_time": "2021-02-22T08:01:37.140699Z"
    }
   },
   "outputs": [],
   "source": [
    "#Applying imputation and storing results in df :\n",
    "\n",
    "train_v3.columns=train_v2[num_columns].columns\n",
    "test_v3.columns=test_v2[num_columns].columns"
   ]
  },
  {
   "cell_type": "code",
   "execution_count": 27,
   "metadata": {
    "ExecuteTime": {
     "end_time": "2021-02-22T08:01:40.393159Z",
     "start_time": "2021-02-22T08:01:40.388428Z"
    }
   },
   "outputs": [],
   "source": [
    "train_v2['Age_']=train_v3['Age']\n",
    "test_v2['Age_']=test_v3['Age']\n",
    "#fare\n",
    "test_v2['Fare_']=test_v3['Fare']"
   ]
  },
  {
   "cell_type": "code",
   "execution_count": 32,
   "metadata": {
    "ExecuteTime": {
     "end_time": "2021-02-22T08:01:46.957293Z",
     "start_time": "2021-02-22T08:01:46.952907Z"
    }
   },
   "outputs": [],
   "source": [
    "# dropping other cols :\n",
    "\n",
    "train_v4=train_v2.drop(columns=['Age','Cabin'])\n",
    "test_v4=test_v2.drop(columns=['Age','Cabin','Fare'])"
   ]
  },
  {
   "cell_type": "code",
   "execution_count": 29,
   "metadata": {
    "ExecuteTime": {
     "end_time": "2021-02-22T08:01:42.623610Z",
     "start_time": "2021-02-22T08:01:42.620345Z"
    }
   },
   "outputs": [],
   "source": [
    "# doing a median and mode imputation for the remaining values\n",
    "\n",
    "train_v4.Embarked.fillna(train_v4.Embarked.mode()[0],inplace=True)"
   ]
  },
  {
   "cell_type": "code",
   "execution_count": 33,
   "metadata": {
    "ExecuteTime": {
     "end_time": "2021-02-22T08:01:52.163666Z",
     "start_time": "2021-02-22T08:01:52.158934Z"
    }
   },
   "outputs": [],
   "source": [
    "train_v4['Age_']=round(train_v4['Age_'],0)\n",
    "test_v4['Age_']=round(test_v4['Age_'],0)"
   ]
  },
  {
   "cell_type": "markdown",
   "metadata": {},
   "source": [
    "Since, Pclass is a categorical variable and is  A proxy for socio-economic status (SES). We substitute the values by cateogries : 1 - high, 2- medium, 3-low "
   ]
  },
  {
   "cell_type": "code",
   "execution_count": 34,
   "metadata": {
    "ExecuteTime": {
     "end_time": "2021-02-22T08:01:53.242912Z",
     "start_time": "2021-02-22T08:01:53.237506Z"
    }
   },
   "outputs": [],
   "source": [
    "train_v4['Pclass']=np.where(train_v4['Pclass']==1,'high',np.where(train_v4['Pclass']==2,'med','low'))\n",
    "test_v4['Pclass']=np.where(test_v4['Pclass']==1,'high',np.where(test_v4['Pclass']==2,'med','low'))"
   ]
  },
  {
   "cell_type": "code",
   "execution_count": 35,
   "metadata": {
    "ExecuteTime": {
     "end_time": "2021-02-22T08:01:53.764786Z",
     "start_time": "2021-02-22T08:01:53.759406Z"
    }
   },
   "outputs": [],
   "source": [
    "train_v5=train_v4.drop(columns=['Name','Ticket'])\n",
    "test_v5=test_v4.drop(columns=['Name','Ticket'])"
   ]
  },
  {
   "cell_type": "code",
   "execution_count": 36,
   "metadata": {
    "ExecuteTime": {
     "end_time": "2021-02-22T08:01:54.725479Z",
     "start_time": "2021-02-22T08:01:54.707964Z"
    }
   },
   "outputs": [],
   "source": [
    "train_v5=pd.get_dummies(train_v5,drop_first=True)\n",
    "test_v5=pd.get_dummies(test_v5,drop_first=True)"
   ]
  },
  {
   "cell_type": "code",
   "execution_count": 37,
   "metadata": {
    "ExecuteTime": {
     "end_time": "2021-02-22T08:01:55.248172Z",
     "start_time": "2021-02-22T08:01:55.237787Z"
    }
   },
   "outputs": [
    {
     "data": {
      "text/html": [
       "<div>\n",
       "<style scoped>\n",
       "    .dataframe tbody tr th:only-of-type {\n",
       "        vertical-align: middle;\n",
       "    }\n",
       "\n",
       "    .dataframe tbody tr th {\n",
       "        vertical-align: top;\n",
       "    }\n",
       "\n",
       "    .dataframe thead th {\n",
       "        text-align: right;\n",
       "    }\n",
       "</style>\n",
       "<table border=\"1\" class=\"dataframe\">\n",
       "  <thead>\n",
       "    <tr style=\"text-align: right;\">\n",
       "      <th></th>\n",
       "      <th>PassengerId</th>\n",
       "      <th>SibSp</th>\n",
       "      <th>Parch</th>\n",
       "      <th>Cabin_flag</th>\n",
       "      <th>Age_</th>\n",
       "      <th>Fare_</th>\n",
       "      <th>Pclass_low</th>\n",
       "      <th>Pclass_med</th>\n",
       "      <th>Sex_male</th>\n",
       "      <th>Embarked_Q</th>\n",
       "      <th>Embarked_S</th>\n",
       "    </tr>\n",
       "  </thead>\n",
       "  <tbody>\n",
       "    <tr>\n",
       "      <th>0</th>\n",
       "      <td>892</td>\n",
       "      <td>0</td>\n",
       "      <td>0</td>\n",
       "      <td>0</td>\n",
       "      <td>34.0</td>\n",
       "      <td>7.8292</td>\n",
       "      <td>1</td>\n",
       "      <td>0</td>\n",
       "      <td>1</td>\n",
       "      <td>1</td>\n",
       "      <td>0</td>\n",
       "    </tr>\n",
       "    <tr>\n",
       "      <th>1</th>\n",
       "      <td>893</td>\n",
       "      <td>1</td>\n",
       "      <td>0</td>\n",
       "      <td>0</td>\n",
       "      <td>47.0</td>\n",
       "      <td>7.0000</td>\n",
       "      <td>1</td>\n",
       "      <td>0</td>\n",
       "      <td>0</td>\n",
       "      <td>0</td>\n",
       "      <td>1</td>\n",
       "    </tr>\n",
       "    <tr>\n",
       "      <th>2</th>\n",
       "      <td>894</td>\n",
       "      <td>0</td>\n",
       "      <td>0</td>\n",
       "      <td>0</td>\n",
       "      <td>62.0</td>\n",
       "      <td>9.6875</td>\n",
       "      <td>0</td>\n",
       "      <td>1</td>\n",
       "      <td>1</td>\n",
       "      <td>1</td>\n",
       "      <td>0</td>\n",
       "    </tr>\n",
       "    <tr>\n",
       "      <th>3</th>\n",
       "      <td>895</td>\n",
       "      <td>0</td>\n",
       "      <td>0</td>\n",
       "      <td>0</td>\n",
       "      <td>27.0</td>\n",
       "      <td>8.6625</td>\n",
       "      <td>1</td>\n",
       "      <td>0</td>\n",
       "      <td>1</td>\n",
       "      <td>0</td>\n",
       "      <td>1</td>\n",
       "    </tr>\n",
       "    <tr>\n",
       "      <th>4</th>\n",
       "      <td>896</td>\n",
       "      <td>1</td>\n",
       "      <td>1</td>\n",
       "      <td>0</td>\n",
       "      <td>22.0</td>\n",
       "      <td>12.2875</td>\n",
       "      <td>1</td>\n",
       "      <td>0</td>\n",
       "      <td>0</td>\n",
       "      <td>0</td>\n",
       "      <td>1</td>\n",
       "    </tr>\n",
       "  </tbody>\n",
       "</table>\n",
       "</div>"
      ],
      "text/plain": [
       "   PassengerId  SibSp  Parch  Cabin_flag  Age_    Fare_  Pclass_low  \\\n",
       "0          892      0      0           0  34.0   7.8292           1   \n",
       "1          893      1      0           0  47.0   7.0000           1   \n",
       "2          894      0      0           0  62.0   9.6875           0   \n",
       "3          895      0      0           0  27.0   8.6625           1   \n",
       "4          896      1      1           0  22.0  12.2875           1   \n",
       "\n",
       "   Pclass_med  Sex_male  Embarked_Q  Embarked_S  \n",
       "0           0         1           1           0  \n",
       "1           0         0           0           1  \n",
       "2           1         1           1           0  \n",
       "3           0         1           0           1  \n",
       "4           0         0           0           1  "
      ]
     },
     "execution_count": 37,
     "metadata": {},
     "output_type": "execute_result"
    }
   ],
   "source": [
    "test_v5.head()"
   ]
  },
  {
   "cell_type": "code",
   "execution_count": 39,
   "metadata": {
    "ExecuteTime": {
     "end_time": "2021-02-22T08:07:06.481276Z",
     "start_time": "2021-02-22T08:07:06.478633Z"
    }
   },
   "outputs": [],
   "source": [
    "### Scaling\n",
    "\n",
    "from sklearn.preprocessing import MinMaxScaler\n",
    "# from sklearn.preprocessing import StandardScaler\n",
    "# scaler = MinMaxScaler()\n",
    "scaler=MinMaxScaler()"
   ]
  },
  {
   "cell_type": "code",
   "execution_count": 49,
   "metadata": {
    "ExecuteTime": {
     "end_time": "2021-02-22T08:13:21.539930Z",
     "start_time": "2021-02-22T08:13:21.529553Z"
    }
   },
   "outputs": [
    {
     "data": {
      "text/html": [
       "<div>\n",
       "<style scoped>\n",
       "    .dataframe tbody tr th:only-of-type {\n",
       "        vertical-align: middle;\n",
       "    }\n",
       "\n",
       "    .dataframe tbody tr th {\n",
       "        vertical-align: top;\n",
       "    }\n",
       "\n",
       "    .dataframe thead th {\n",
       "        text-align: right;\n",
       "    }\n",
       "</style>\n",
       "<table border=\"1\" class=\"dataframe\">\n",
       "  <thead>\n",
       "    <tr style=\"text-align: right;\">\n",
       "      <th></th>\n",
       "      <th>PassengerId</th>\n",
       "      <th>Survived</th>\n",
       "      <th>SibSp</th>\n",
       "      <th>Parch</th>\n",
       "      <th>Fare</th>\n",
       "      <th>Cabin_flag</th>\n",
       "      <th>Age_</th>\n",
       "      <th>Pclass_low</th>\n",
       "      <th>Pclass_med</th>\n",
       "      <th>Sex_male</th>\n",
       "      <th>Embarked_Q</th>\n",
       "      <th>Embarked_S</th>\n",
       "      <th>Age_scaled</th>\n",
       "    </tr>\n",
       "  </thead>\n",
       "  <tbody>\n",
       "    <tr>\n",
       "      <th>0</th>\n",
       "      <td>1</td>\n",
       "      <td>0</td>\n",
       "      <td>1</td>\n",
       "      <td>0</td>\n",
       "      <td>7.2500</td>\n",
       "      <td>0</td>\n",
       "      <td>22.0</td>\n",
       "      <td>1</td>\n",
       "      <td>0</td>\n",
       "      <td>1</td>\n",
       "      <td>0</td>\n",
       "      <td>1</td>\n",
       "      <td>0.2750</td>\n",
       "    </tr>\n",
       "    <tr>\n",
       "      <th>1</th>\n",
       "      <td>2</td>\n",
       "      <td>1</td>\n",
       "      <td>1</td>\n",
       "      <td>0</td>\n",
       "      <td>71.2833</td>\n",
       "      <td>1</td>\n",
       "      <td>38.0</td>\n",
       "      <td>0</td>\n",
       "      <td>0</td>\n",
       "      <td>0</td>\n",
       "      <td>0</td>\n",
       "      <td>0</td>\n",
       "      <td>0.4750</td>\n",
       "    </tr>\n",
       "    <tr>\n",
       "      <th>2</th>\n",
       "      <td>3</td>\n",
       "      <td>1</td>\n",
       "      <td>0</td>\n",
       "      <td>0</td>\n",
       "      <td>7.9250</td>\n",
       "      <td>0</td>\n",
       "      <td>26.0</td>\n",
       "      <td>1</td>\n",
       "      <td>0</td>\n",
       "      <td>0</td>\n",
       "      <td>0</td>\n",
       "      <td>1</td>\n",
       "      <td>0.3250</td>\n",
       "    </tr>\n",
       "    <tr>\n",
       "      <th>3</th>\n",
       "      <td>4</td>\n",
       "      <td>1</td>\n",
       "      <td>1</td>\n",
       "      <td>0</td>\n",
       "      <td>53.1000</td>\n",
       "      <td>1</td>\n",
       "      <td>35.0</td>\n",
       "      <td>0</td>\n",
       "      <td>0</td>\n",
       "      <td>0</td>\n",
       "      <td>0</td>\n",
       "      <td>1</td>\n",
       "      <td>0.4375</td>\n",
       "    </tr>\n",
       "    <tr>\n",
       "      <th>4</th>\n",
       "      <td>5</td>\n",
       "      <td>0</td>\n",
       "      <td>0</td>\n",
       "      <td>0</td>\n",
       "      <td>8.0500</td>\n",
       "      <td>0</td>\n",
       "      <td>35.0</td>\n",
       "      <td>1</td>\n",
       "      <td>0</td>\n",
       "      <td>1</td>\n",
       "      <td>0</td>\n",
       "      <td>1</td>\n",
       "      <td>0.4375</td>\n",
       "    </tr>\n",
       "  </tbody>\n",
       "</table>\n",
       "</div>"
      ],
      "text/plain": [
       "   PassengerId  Survived  SibSp  Parch     Fare  Cabin_flag  Age_  Pclass_low  \\\n",
       "0            1         0      1      0   7.2500           0  22.0           1   \n",
       "1            2         1      1      0  71.2833           1  38.0           0   \n",
       "2            3         1      0      0   7.9250           0  26.0           1   \n",
       "3            4         1      1      0  53.1000           1  35.0           0   \n",
       "4            5         0      0      0   8.0500           0  35.0           1   \n",
       "\n",
       "   Pclass_med  Sex_male  Embarked_Q  Embarked_S  Age_scaled  \n",
       "0           0         1           0           1      0.2750  \n",
       "1           0         0           0           0      0.4750  \n",
       "2           0         0           0           1      0.3250  \n",
       "3           0         0           0           1      0.4375  \n",
       "4           0         1           0           1      0.4375  "
      ]
     },
     "execution_count": 49,
     "metadata": {},
     "output_type": "execute_result"
    }
   ],
   "source": [
    "train_v5.head()"
   ]
  },
  {
   "cell_type": "code",
   "execution_count": 50,
   "metadata": {
    "ExecuteTime": {
     "end_time": "2021-02-22T08:13:34.479718Z",
     "start_time": "2021-02-22T08:13:34.461305Z"
    }
   },
   "outputs": [],
   "source": [
    "# Apply scaler() to age and fare\n",
    "\n",
    "\n",
    "train_v5['Age_scaled'] = scaler.fit_transform(train_v5[['Age_']])\n",
    "test_v5['Age_scaled'] = scaler.fit_transform(test_v5[['Age_']])\n",
    "\n",
    "train_v5['Fare_scaled'] = scaler.fit_transform(train_v5[['Fare']])\n",
    "test_v5['Fare_scaled'] = scaler.fit_transform(test_v5[['Fare_']])\n",
    "# df_filtered_v3.columns=list(df_filtered_v2.columns)\n",
    "\n",
    "# df_filtered_v3.head()"
   ]
  },
  {
   "cell_type": "code",
   "execution_count": 52,
   "metadata": {
    "ExecuteTime": {
     "end_time": "2021-02-22T08:14:06.621530Z",
     "start_time": "2021-02-22T08:14:06.609064Z"
    }
   },
   "outputs": [
    {
     "data": {
      "text/html": [
       "<div>\n",
       "<style scoped>\n",
       "    .dataframe tbody tr th:only-of-type {\n",
       "        vertical-align: middle;\n",
       "    }\n",
       "\n",
       "    .dataframe tbody tr th {\n",
       "        vertical-align: top;\n",
       "    }\n",
       "\n",
       "    .dataframe thead th {\n",
       "        text-align: right;\n",
       "    }\n",
       "</style>\n",
       "<table border=\"1\" class=\"dataframe\">\n",
       "  <thead>\n",
       "    <tr style=\"text-align: right;\">\n",
       "      <th></th>\n",
       "      <th>PassengerId</th>\n",
       "      <th>SibSp</th>\n",
       "      <th>Parch</th>\n",
       "      <th>Cabin_flag</th>\n",
       "      <th>Age_</th>\n",
       "      <th>Fare_</th>\n",
       "      <th>Pclass_low</th>\n",
       "      <th>Pclass_med</th>\n",
       "      <th>Sex_male</th>\n",
       "      <th>Embarked_Q</th>\n",
       "      <th>Embarked_S</th>\n",
       "      <th>Age_scaled</th>\n",
       "      <th>Fare_scaled</th>\n",
       "    </tr>\n",
       "  </thead>\n",
       "  <tbody>\n",
       "    <tr>\n",
       "      <th>0</th>\n",
       "      <td>892</td>\n",
       "      <td>0</td>\n",
       "      <td>0</td>\n",
       "      <td>0</td>\n",
       "      <td>34.0</td>\n",
       "      <td>7.8292</td>\n",
       "      <td>1</td>\n",
       "      <td>0</td>\n",
       "      <td>1</td>\n",
       "      <td>1</td>\n",
       "      <td>0</td>\n",
       "      <td>0.447368</td>\n",
       "      <td>0.015282</td>\n",
       "    </tr>\n",
       "    <tr>\n",
       "      <th>1</th>\n",
       "      <td>893</td>\n",
       "      <td>1</td>\n",
       "      <td>0</td>\n",
       "      <td>0</td>\n",
       "      <td>47.0</td>\n",
       "      <td>7.0000</td>\n",
       "      <td>1</td>\n",
       "      <td>0</td>\n",
       "      <td>0</td>\n",
       "      <td>0</td>\n",
       "      <td>1</td>\n",
       "      <td>0.618421</td>\n",
       "      <td>0.013663</td>\n",
       "    </tr>\n",
       "    <tr>\n",
       "      <th>2</th>\n",
       "      <td>894</td>\n",
       "      <td>0</td>\n",
       "      <td>0</td>\n",
       "      <td>0</td>\n",
       "      <td>62.0</td>\n",
       "      <td>9.6875</td>\n",
       "      <td>0</td>\n",
       "      <td>1</td>\n",
       "      <td>1</td>\n",
       "      <td>1</td>\n",
       "      <td>0</td>\n",
       "      <td>0.815789</td>\n",
       "      <td>0.018909</td>\n",
       "    </tr>\n",
       "    <tr>\n",
       "      <th>3</th>\n",
       "      <td>895</td>\n",
       "      <td>0</td>\n",
       "      <td>0</td>\n",
       "      <td>0</td>\n",
       "      <td>27.0</td>\n",
       "      <td>8.6625</td>\n",
       "      <td>1</td>\n",
       "      <td>0</td>\n",
       "      <td>1</td>\n",
       "      <td>0</td>\n",
       "      <td>1</td>\n",
       "      <td>0.355263</td>\n",
       "      <td>0.016908</td>\n",
       "    </tr>\n",
       "    <tr>\n",
       "      <th>4</th>\n",
       "      <td>896</td>\n",
       "      <td>1</td>\n",
       "      <td>1</td>\n",
       "      <td>0</td>\n",
       "      <td>22.0</td>\n",
       "      <td>12.2875</td>\n",
       "      <td>1</td>\n",
       "      <td>0</td>\n",
       "      <td>0</td>\n",
       "      <td>0</td>\n",
       "      <td>1</td>\n",
       "      <td>0.289474</td>\n",
       "      <td>0.023984</td>\n",
       "    </tr>\n",
       "  </tbody>\n",
       "</table>\n",
       "</div>"
      ],
      "text/plain": [
       "   PassengerId  SibSp  Parch  Cabin_flag  Age_    Fare_  Pclass_low  \\\n",
       "0          892      0      0           0  34.0   7.8292           1   \n",
       "1          893      1      0           0  47.0   7.0000           1   \n",
       "2          894      0      0           0  62.0   9.6875           0   \n",
       "3          895      0      0           0  27.0   8.6625           1   \n",
       "4          896      1      1           0  22.0  12.2875           1   \n",
       "\n",
       "   Pclass_med  Sex_male  Embarked_Q  Embarked_S  Age_scaled  Fare_scaled  \n",
       "0           0         1           1           0    0.447368     0.015282  \n",
       "1           0         0           0           1    0.618421     0.013663  \n",
       "2           1         1           1           0    0.815789     0.018909  \n",
       "3           0         1           0           1    0.355263     0.016908  \n",
       "4           0         0           0           1    0.289474     0.023984  "
      ]
     },
     "execution_count": 52,
     "metadata": {},
     "output_type": "execute_result"
    }
   ],
   "source": [
    "test_v5.head()"
   ]
  },
  {
   "cell_type": "markdown",
   "metadata": {},
   "source": [
    "## Data Export"
   ]
  },
  {
   "cell_type": "code",
   "execution_count": 54,
   "metadata": {
    "ExecuteTime": {
     "end_time": "2021-02-22T08:50:50.135414Z",
     "start_time": "2021-02-22T08:50:50.109559Z"
    }
   },
   "outputs": [],
   "source": [
    "train_v5.to_csv('train_prep.csv',index=False)\n",
    "test_v5.to_csv('test_prep.csv',index=False)"
   ]
  },
  {
   "cell_type": "markdown",
   "metadata": {},
   "source": [
    "### Model Validation"
   ]
  },
  {
   "cell_type": "code",
   "execution_count": 305,
   "metadata": {
    "ExecuteTime": {
     "end_time": "2021-01-12T20:45:47.630886Z",
     "start_time": "2021-01-12T20:45:47.626592Z"
    }
   },
   "outputs": [],
   "source": [
    "X=train_v5[list(set(train_v5.columns)-{'PassengerId','Survived'})]\n",
    "Y=train_v5['Survived']"
   ]
  },
  {
   "cell_type": "code",
   "execution_count": 325,
   "metadata": {
    "ExecuteTime": {
     "end_time": "2021-01-12T20:50:28.055822Z",
     "start_time": "2021-01-12T20:50:28.050786Z"
    }
   },
   "outputs": [],
   "source": [
    "from sklearn.model_selection import train_test_split\n",
    "\n",
    "X_train, X_test, y_train, y_test = train_test_split( X, Y, test_size = 0.2, random_state = 42,stratify=Y)"
   ]
  },
  {
   "cell_type": "code",
   "execution_count": 326,
   "metadata": {
    "ExecuteTime": {
     "end_time": "2021-01-12T20:50:29.652385Z",
     "start_time": "2021-01-12T20:50:29.650019Z"
    }
   },
   "outputs": [],
   "source": [
    "\n",
    "# y_train=train_v5['Survived']\n",
    "# X_train=train_v5[list(set(train_v5.columns)-{'PassengerId','Survived'})]\n",
    "# X_test=test_v5[list(set(test_v5.columns)-{'PassengerId'})]\n",
    "# X_train="
   ]
  },
  {
   "cell_type": "code",
   "execution_count": 327,
   "metadata": {
    "ExecuteTime": {
     "end_time": "2021-01-12T20:50:29.840566Z",
     "start_time": "2021-01-12T20:50:29.826872Z"
    }
   },
   "outputs": [],
   "source": [
    "import statsmodels.api as sm\n",
    "lg_reg_model = sm.GLM(y_train, sm.add_constant(X_train),family=sm.families.Binomial()).fit() # add const and famili bonom???\n"
   ]
  },
  {
   "cell_type": "code",
   "execution_count": 328,
   "metadata": {
    "ExecuteTime": {
     "end_time": "2021-01-12T20:50:30.002129Z",
     "start_time": "2021-01-12T20:50:29.970433Z"
    }
   },
   "outputs": [
    {
     "data": {
      "text/html": [
       "<table class=\"simpletable\">\n",
       "<tr>\n",
       "        <td>Model:</td>               <td>GLM</td>            <td>AIC:</td>        <td>632.2636</td> \n",
       "</tr>\n",
       "<tr>\n",
       "    <td>Link Function:</td>          <td>logit</td>           <td>BIC:</td>       <td>-3993.9590</td>\n",
       "</tr>\n",
       "<tr>\n",
       "  <td>Dependent Variable:</td>     <td>Survived</td>     <td>Log-Likelihood:</td>   <td>-305.13</td> \n",
       "</tr>\n",
       "<tr>\n",
       "         <td>Date:</td>        <td>2021-01-13 02:20</td>    <td>LL-Null:</td>       <td>-473.99</td> \n",
       "</tr>\n",
       "<tr>\n",
       "   <td>No. Observations:</td>         <td>712</td>          <td>Deviance:</td>      <td>610.26</td>  \n",
       "</tr>\n",
       "<tr>\n",
       "       <td>Df Model:</td>             <td>10</td>         <td>Pearson chi2:</td>     <td>730.</td>   \n",
       "</tr>\n",
       "<tr>\n",
       "     <td>Df Residuals:</td>           <td>701</td>           <td>Scale:</td>        <td>1.0000</td>  \n",
       "</tr>\n",
       "<tr>\n",
       "        <td>Method:</td>             <td>IRLS</td>              <td></td>              <td></td>     \n",
       "</tr>\n",
       "</table>\n",
       "<table class=\"simpletable\">\n",
       "<tr>\n",
       "       <td></td>       <th>Coef.</th>  <th>Std.Err.</th>     <th>z</th>     <th>P>|z|</th> <th>[0.025</th>  <th>0.975]</th> \n",
       "</tr>\n",
       "<tr>\n",
       "  <th>const</th>      <td>3.1940</td>   <td>0.6115</td>   <td>5.2233</td>  <td>0.0000</td> <td>1.9955</td>  <td>4.3924</td> \n",
       "</tr>\n",
       "<tr>\n",
       "  <th>SibSp</th>      <td>-0.2379</td>  <td>0.1250</td>   <td>-1.9036</td> <td>0.0570</td> <td>-0.4828</td> <td>0.0070</td> \n",
       "</tr>\n",
       "<tr>\n",
       "  <th>Fare</th>       <td>0.0018</td>   <td>0.0030</td>   <td>0.6212</td>  <td>0.5345</td> <td>-0.0040</td> <td>0.0076</td> \n",
       "</tr>\n",
       "<tr>\n",
       "  <th>Sex_male</th>   <td>-2.6610</td>  <td>0.2262</td>  <td>-11.7637</td> <td>0.0000</td> <td>-3.1044</td> <td>-2.2177</td>\n",
       "</tr>\n",
       "<tr>\n",
       "  <th>Pclass_med</th> <td>-0.2710</td>  <td>0.4408</td>   <td>-0.6148</td> <td>0.5387</td> <td>-1.1349</td> <td>0.5929</td> \n",
       "</tr>\n",
       "<tr>\n",
       "  <th>Cabin_flag</th> <td>1.1463</td>   <td>0.3696</td>   <td>3.1012</td>  <td>0.0019</td> <td>0.4218</td>  <td>1.8708</td> \n",
       "</tr>\n",
       "<tr>\n",
       "  <th>Embarked_Q</th> <td>0.3702</td>   <td>0.4449</td>   <td>0.8320</td>  <td>0.4054</td> <td>-0.5018</td> <td>1.2422</td> \n",
       "</tr>\n",
       "<tr>\n",
       "  <th>Parch</th>      <td>-0.1176</td>  <td>0.1283</td>   <td>-0.9164</td> <td>0.3595</td> <td>-0.3691</td> <td>0.1339</td> \n",
       "</tr>\n",
       "<tr>\n",
       "  <th>Age_</th>       <td>-0.0378</td>  <td>0.0087</td>   <td>-4.3443</td> <td>0.0000</td> <td>-0.0548</td> <td>-0.0207</td>\n",
       "</tr>\n",
       "<tr>\n",
       "  <th>Pclass_low</th> <td>-1.4868</td>  <td>0.4612</td>   <td>-3.2235</td> <td>0.0013</td> <td>-2.3907</td> <td>-0.5828</td>\n",
       "</tr>\n",
       "<tr>\n",
       "  <th>Embarked_S</th> <td>-0.4340</td>  <td>0.2712</td>   <td>-1.6006</td> <td>0.1095</td> <td>-0.9655</td> <td>0.0975</td> \n",
       "</tr>\n",
       "</table>"
      ],
      "text/plain": [
       "<class 'statsmodels.iolib.summary2.Summary'>\n",
       "\"\"\"\n",
       "               Results: Generalized linear model\n",
       "===============================================================\n",
       "Model:              GLM              AIC:            632.2636  \n",
       "Link Function:      logit            BIC:            -3993.9590\n",
       "Dependent Variable: Survived         Log-Likelihood: -305.13   \n",
       "Date:               2021-01-13 02:20 LL-Null:        -473.99   \n",
       "No. Observations:   712              Deviance:       610.26    \n",
       "Df Model:           10               Pearson chi2:   730.      \n",
       "Df Residuals:       701              Scale:          1.0000    \n",
       "Method:             IRLS                                       \n",
       "---------------------------------------------------------------\n",
       "                Coef.  Std.Err.    z     P>|z|   [0.025  0.975]\n",
       "---------------------------------------------------------------\n",
       "const           3.1940   0.6115   5.2233 0.0000  1.9955  4.3924\n",
       "SibSp          -0.2379   0.1250  -1.9036 0.0570 -0.4828  0.0070\n",
       "Fare            0.0018   0.0030   0.6212 0.5345 -0.0040  0.0076\n",
       "Sex_male       -2.6610   0.2262 -11.7637 0.0000 -3.1044 -2.2177\n",
       "Pclass_med     -0.2710   0.4408  -0.6148 0.5387 -1.1349  0.5929\n",
       "Cabin_flag      1.1463   0.3696   3.1012 0.0019  0.4218  1.8708\n",
       "Embarked_Q      0.3702   0.4449   0.8320 0.4054 -0.5018  1.2422\n",
       "Parch          -0.1176   0.1283  -0.9164 0.3595 -0.3691  0.1339\n",
       "Age_           -0.0378   0.0087  -4.3443 0.0000 -0.0548 -0.0207\n",
       "Pclass_low     -1.4868   0.4612  -3.2235 0.0013 -2.3907 -0.5828\n",
       "Embarked_S     -0.4340   0.2712  -1.6006 0.1095 -0.9655  0.0975\n",
       "===============================================================\n",
       "\n",
       "\"\"\""
      ]
     },
     "execution_count": 328,
     "metadata": {},
     "output_type": "execute_result"
    }
   ],
   "source": [
    "lg_reg_model.summary2()"
   ]
  },
  {
   "cell_type": "code",
   "execution_count": 329,
   "metadata": {
    "ExecuteTime": {
     "end_time": "2021-01-12T20:50:30.615926Z",
     "start_time": "2021-01-12T20:50:30.605543Z"
    }
   },
   "outputs": [
    {
     "data": {
      "text/html": [
       "<div>\n",
       "<style scoped>\n",
       "    .dataframe tbody tr th:only-of-type {\n",
       "        vertical-align: middle;\n",
       "    }\n",
       "\n",
       "    .dataframe tbody tr th {\n",
       "        vertical-align: top;\n",
       "    }\n",
       "\n",
       "    .dataframe thead th {\n",
       "        text-align: right;\n",
       "    }\n",
       "</style>\n",
       "<table border=\"1\" class=\"dataframe\">\n",
       "  <thead>\n",
       "    <tr style=\"text-align: right;\">\n",
       "      <th></th>\n",
       "      <th>pvals</th>\n",
       "    </tr>\n",
       "  </thead>\n",
       "  <tbody>\n",
       "    <tr>\n",
       "      <th>const</th>\n",
       "      <td>1.757520e-07</td>\n",
       "    </tr>\n",
       "    <tr>\n",
       "      <th>Sex_male</th>\n",
       "      <td>6.006068e-32</td>\n",
       "    </tr>\n",
       "    <tr>\n",
       "      <th>Cabin_flag</th>\n",
       "      <td>1.927630e-03</td>\n",
       "    </tr>\n",
       "    <tr>\n",
       "      <th>Age_</th>\n",
       "      <td>1.396913e-05</td>\n",
       "    </tr>\n",
       "    <tr>\n",
       "      <th>Pclass_low</th>\n",
       "      <td>1.266193e-03</td>\n",
       "    </tr>\n",
       "  </tbody>\n",
       "</table>\n",
       "</div>"
      ],
      "text/plain": [
       "                   pvals\n",
       "const       1.757520e-07\n",
       "Sex_male    6.006068e-32\n",
       "Cabin_flag  1.927630e-03\n",
       "Age_        1.396913e-05\n",
       "Pclass_low  1.266193e-03"
      ]
     },
     "execution_count": 329,
     "metadata": {},
     "output_type": "execute_result"
    }
   ],
   "source": [
    "def get_significant_vars (modelobject):\n",
    "    var_p_vals_df = pd.DataFrame(modelobject.pvalues)\n",
    "    var_p_vals_df['vars'] = var_p_vals_df.index\n",
    "    var_p_vals_df.columns = ['pvals', 'vars']\n",
    "    return var_p_vals_df[var_p_vals_df.pvals <= 0.05][['pvals']]\n",
    "\n",
    "\n",
    "significant_vars = get_significant_vars(lg_reg_model)\n",
    "significant_vars"
   ]
  },
  {
   "cell_type": "code",
   "execution_count": 334,
   "metadata": {
    "ExecuteTime": {
     "end_time": "2021-01-12T20:57:25.944104Z",
     "start_time": "2021-01-12T20:57:25.939275Z"
    }
   },
   "outputs": [],
   "source": [
    "sig_var=['SibSp','Sex_male','Cabin_flag','Age_','Pclass_low']\n",
    "X_train=X_train[sig_var]\n",
    "X_test=X_test[sig_var]"
   ]
  },
  {
   "cell_type": "code",
   "execution_count": 331,
   "metadata": {
    "ExecuteTime": {
     "end_time": "2021-01-12T20:50:34.823697Z",
     "start_time": "2021-01-12T20:50:34.783262Z"
    }
   },
   "outputs": [
    {
     "data": {
      "text/html": [
       "<table class=\"simpletable\">\n",
       "<tr>\n",
       "        <td>Model:</td>               <td>GLM</td>            <td>AIC:</td>        <td>632.2889</td> \n",
       "</tr>\n",
       "<tr>\n",
       "    <td>Link Function:</td>          <td>logit</td>           <td>BIC:</td>       <td>-4016.7741</td>\n",
       "</tr>\n",
       "<tr>\n",
       "  <td>Dependent Variable:</td>     <td>Survived</td>     <td>Log-Likelihood:</td>   <td>-310.14</td> \n",
       "</tr>\n",
       "<tr>\n",
       "         <td>Date:</td>        <td>2021-01-13 02:20</td>    <td>LL-Null:</td>       <td>-473.99</td> \n",
       "</tr>\n",
       "<tr>\n",
       "   <td>No. Observations:</td>         <td>712</td>          <td>Deviance:</td>      <td>620.29</td>  \n",
       "</tr>\n",
       "<tr>\n",
       "       <td>Df Model:</td>              <td>5</td>         <td>Pearson chi2:</td>     <td>735.</td>   \n",
       "</tr>\n",
       "<tr>\n",
       "     <td>Df Residuals:</td>           <td>706</td>           <td>Scale:</td>        <td>1.0000</td>  \n",
       "</tr>\n",
       "<tr>\n",
       "        <td>Method:</td>             <td>IRLS</td>              <td></td>              <td></td>     \n",
       "</tr>\n",
       "</table>\n",
       "<table class=\"simpletable\">\n",
       "<tr>\n",
       "       <td></td>       <th>Coef.</th>  <th>Std.Err.</th>     <th>z</th>     <th>P>|z|</th> <th>[0.025</th>  <th>0.975]</th> \n",
       "</tr>\n",
       "<tr>\n",
       "  <th>const</th>      <td>2.6137</td>   <td>0.3735</td>   <td>6.9975</td>  <td>0.0000</td> <td>1.8816</td>  <td>3.3458</td> \n",
       "</tr>\n",
       "<tr>\n",
       "  <th>SibSp</th>      <td>-0.2893</td>  <td>0.1208</td>   <td>-2.3954</td> <td>0.0166</td> <td>-0.5260</td> <td>-0.0526</td>\n",
       "</tr>\n",
       "<tr>\n",
       "  <th>Sex_male</th>   <td>-2.6811</td>  <td>0.2167</td>  <td>-12.3724</td> <td>0.0000</td> <td>-3.1058</td> <td>-2.2563</td>\n",
       "</tr>\n",
       "<tr>\n",
       "  <th>Cabin_flag</th> <td>1.4174</td>   <td>0.2770</td>   <td>5.1168</td>  <td>0.0000</td> <td>0.8745</td>  <td>1.9604</td> \n",
       "</tr>\n",
       "<tr>\n",
       "  <th>Age_</th>       <td>-0.0353</td>  <td>0.0083</td>   <td>-4.2531</td> <td>0.0000</td> <td>-0.0516</td> <td>-0.0191</td>\n",
       "</tr>\n",
       "<tr>\n",
       "  <th>Pclass_low</th> <td>-1.2081</td>  <td>0.2430</td>   <td>-4.9711</td> <td>0.0000</td> <td>-1.6844</td> <td>-0.7318</td>\n",
       "</tr>\n",
       "</table>"
      ],
      "text/plain": [
       "<class 'statsmodels.iolib.summary2.Summary'>\n",
       "\"\"\"\n",
       "               Results: Generalized linear model\n",
       "===============================================================\n",
       "Model:              GLM              AIC:            632.2889  \n",
       "Link Function:      logit            BIC:            -4016.7741\n",
       "Dependent Variable: Survived         Log-Likelihood: -310.14   \n",
       "Date:               2021-01-13 02:20 LL-Null:        -473.99   \n",
       "No. Observations:   712              Deviance:       620.29    \n",
       "Df Model:           5                Pearson chi2:   735.      \n",
       "Df Residuals:       706              Scale:          1.0000    \n",
       "Method:             IRLS                                       \n",
       "---------------------------------------------------------------\n",
       "                Coef.  Std.Err.    z     P>|z|   [0.025  0.975]\n",
       "---------------------------------------------------------------\n",
       "const           2.6137   0.3735   6.9975 0.0000  1.8816  3.3458\n",
       "SibSp          -0.2893   0.1208  -2.3954 0.0166 -0.5260 -0.0526\n",
       "Sex_male       -2.6811   0.2167 -12.3724 0.0000 -3.1058 -2.2563\n",
       "Cabin_flag      1.4174   0.2770   5.1168 0.0000  0.8745  1.9604\n",
       "Age_           -0.0353   0.0083  -4.2531 0.0000 -0.0516 -0.0191\n",
       "Pclass_low     -1.2081   0.2430  -4.9711 0.0000 -1.6844 -0.7318\n",
       "===============================================================\n",
       "\n",
       "\"\"\""
      ]
     },
     "execution_count": 331,
     "metadata": {},
     "output_type": "execute_result"
    }
   ],
   "source": [
    "import statsmodels.api as sm\n",
    "lg_reg_model2 = sm.GLM(y_train, sm.add_constant(X_train),family=sm.families.Binomial()).fit() # add const and famili bonom???\n",
    "lg_reg_model2.summary2()"
   ]
  },
  {
   "cell_type": "code",
   "execution_count": 304,
   "metadata": {
    "ExecuteTime": {
     "end_time": "2021-01-12T20:43:33.307974Z",
     "start_time": "2021-01-12T20:43:33.305626Z"
    }
   },
   "outputs": [],
   "source": [
    "# ### Only significant variables included in the model\n",
    "\n",
    "# pass_formula = 'Survived ~ C(Pclass)+C(Sex)  +SibSp  +Cabin_flag+Age_'\n",
    "\n",
    "\n",
    "# lg_reg_model2 = smf.glm(formula=pass_formula, data=train_v4, family=sm.families.Binomial()).fit()\n",
    "# lg_reg_model2.summary2()"
   ]
  },
  {
   "cell_type": "code",
   "execution_count": 335,
   "metadata": {
    "ExecuteTime": {
     "end_time": "2021-01-12T20:57:29.439311Z",
     "start_time": "2021-01-12T20:57:29.433998Z"
    }
   },
   "outputs": [
    {
     "data": {
      "text/plain": [
       "'PREDICTED CLASS WITH ACTUAL CLASS'"
      ]
     },
     "execution_count": 335,
     "metadata": {},
     "output_type": "execute_result"
    }
   ],
   "source": [
    "\"\"\"PREDICTED CLASS WITH ACTUAL CLASS\"\"\"\n",
    "def get_predictions ( test_class, model, test_data ):\n",
    "    y_pred_df = pd.DataFrame( { 'actual': test_class,\n",
    "                               'predicted_prob': model.get_prediction(sm.add_constant(test_data)).predicted_mean})\n",
    "    return y_pred_df"
   ]
  },
  {
   "cell_type": "code",
   "execution_count": 336,
   "metadata": {
    "ExecuteTime": {
     "end_time": "2021-01-12T20:57:38.552347Z",
     "start_time": "2021-01-12T20:57:38.539182Z"
    }
   },
   "outputs": [
    {
     "data": {
      "text/plain": [
       "'PREDICTED CLASS WITH ACTUAL CLASS'"
      ]
     },
     "execution_count": 336,
     "metadata": {},
     "output_type": "execute_result"
    },
    {
     "data": {
      "text/html": [
       "<div>\n",
       "<style scoped>\n",
       "    .dataframe tbody tr th:only-of-type {\n",
       "        vertical-align: middle;\n",
       "    }\n",
       "\n",
       "    .dataframe tbody tr th {\n",
       "        vertical-align: top;\n",
       "    }\n",
       "\n",
       "    .dataframe thead th {\n",
       "        text-align: right;\n",
       "    }\n",
       "</style>\n",
       "<table border=\"1\" class=\"dataframe\">\n",
       "  <thead>\n",
       "    <tr style=\"text-align: right;\">\n",
       "      <th></th>\n",
       "      <th>actual</th>\n",
       "      <th>predicted_prob</th>\n",
       "    </tr>\n",
       "  </thead>\n",
       "  <tbody>\n",
       "    <tr>\n",
       "      <th>565</th>\n",
       "      <td>0</td>\n",
       "      <td>0.062850</td>\n",
       "    </tr>\n",
       "    <tr>\n",
       "      <th>160</th>\n",
       "      <td>0</td>\n",
       "      <td>0.055718</td>\n",
       "    </tr>\n",
       "    <tr>\n",
       "      <th>553</th>\n",
       "      <td>1</td>\n",
       "      <td>0.113769</td>\n",
       "    </tr>\n",
       "    <tr>\n",
       "      <th>860</th>\n",
       "      <td>0</td>\n",
       "      <td>0.035477</td>\n",
       "    </tr>\n",
       "    <tr>\n",
       "      <th>241</th>\n",
       "      <td>1</td>\n",
       "      <td>0.478750</td>\n",
       "    </tr>\n",
       "  </tbody>\n",
       "</table>\n",
       "</div>"
      ],
      "text/plain": [
       "     actual  predicted_prob\n",
       "565       0        0.062850\n",
       "160       0        0.055718\n",
       "553       1        0.113769\n",
       "860       0        0.035477\n",
       "241       1        0.478750"
      ]
     },
     "execution_count": 336,
     "metadata": {},
     "output_type": "execute_result"
    }
   ],
   "source": [
    "'PREDICTED CLASS WITH ACTUAL CLASS'\n",
    "predict_test_df = pd.DataFrame(get_predictions(y_test, lg_reg_model2,X_test))\n",
    "predict_test_df.head()"
   ]
  },
  {
   "cell_type": "code",
   "execution_count": 342,
   "metadata": {
    "ExecuteTime": {
     "end_time": "2021-01-12T21:00:20.429943Z",
     "start_time": "2021-01-12T21:00:20.421166Z"
    }
   },
   "outputs": [
    {
     "data": {
      "text/html": [
       "<div>\n",
       "<style scoped>\n",
       "    .dataframe tbody tr th:only-of-type {\n",
       "        vertical-align: middle;\n",
       "    }\n",
       "\n",
       "    .dataframe tbody tr th {\n",
       "        vertical-align: top;\n",
       "    }\n",
       "\n",
       "    .dataframe thead th {\n",
       "        text-align: right;\n",
       "    }\n",
       "</style>\n",
       "<table border=\"1\" class=\"dataframe\">\n",
       "  <thead>\n",
       "    <tr style=\"text-align: right;\">\n",
       "      <th></th>\n",
       "      <th>actual</th>\n",
       "      <th>predicted_prob</th>\n",
       "      <th>predicted</th>\n",
       "    </tr>\n",
       "  </thead>\n",
       "  <tbody>\n",
       "    <tr>\n",
       "      <th>565</th>\n",
       "      <td>0</td>\n",
       "      <td>0.062850</td>\n",
       "      <td>0</td>\n",
       "    </tr>\n",
       "    <tr>\n",
       "      <th>160</th>\n",
       "      <td>0</td>\n",
       "      <td>0.055718</td>\n",
       "      <td>0</td>\n",
       "    </tr>\n",
       "    <tr>\n",
       "      <th>553</th>\n",
       "      <td>1</td>\n",
       "      <td>0.113769</td>\n",
       "      <td>0</td>\n",
       "    </tr>\n",
       "    <tr>\n",
       "      <th>860</th>\n",
       "      <td>0</td>\n",
       "      <td>0.035477</td>\n",
       "      <td>0</td>\n",
       "    </tr>\n",
       "    <tr>\n",
       "      <th>241</th>\n",
       "      <td>1</td>\n",
       "      <td>0.478750</td>\n",
       "      <td>1</td>\n",
       "    </tr>\n",
       "    <tr>\n",
       "      <th>559</th>\n",
       "      <td>1</td>\n",
       "      <td>0.461150</td>\n",
       "      <td>1</td>\n",
       "    </tr>\n",
       "    <tr>\n",
       "      <th>387</th>\n",
       "      <td>1</td>\n",
       "      <td>0.792772</td>\n",
       "      <td>1</td>\n",
       "    </tr>\n",
       "    <tr>\n",
       "      <th>536</th>\n",
       "      <td>0</td>\n",
       "      <td>0.440310</td>\n",
       "      <td>0</td>\n",
       "    </tr>\n",
       "    <tr>\n",
       "      <th>698</th>\n",
       "      <td>0</td>\n",
       "      <td>0.338375</td>\n",
       "      <td>0</td>\n",
       "    </tr>\n",
       "    <tr>\n",
       "      <th>99</th>\n",
       "      <td>0</td>\n",
       "      <td>0.173935</td>\n",
       "      <td>0</td>\n",
       "    </tr>\n",
       "  </tbody>\n",
       "</table>\n",
       "</div>"
      ],
      "text/plain": [
       "     actual  predicted_prob predicted\n",
       "565       0        0.062850         0\n",
       "160       0        0.055718         0\n",
       "553       1        0.113769         0\n",
       "860       0        0.035477         0\n",
       "241       1        0.478750         1\n",
       "559       1        0.461150         1\n",
       "387       1        0.792772         1\n",
       "536       0        0.440310         0\n",
       "698       0        0.338375         0\n",
       "99        0        0.173935         0"
      ]
     },
     "execution_count": 342,
     "metadata": {},
     "output_type": "execute_result"
    }
   ],
   "source": [
    "#DEFAULT CUTOFF TAKEN =0.7\n",
    "predict_test_df['predicted'] = predict_test_df.predicted_prob.apply(lambda x: '1' if x > 0.45 else '0')\n",
    "predict_test_df[0:10]"
   ]
  },
  {
   "cell_type": "code",
   "execution_count": 343,
   "metadata": {
    "ExecuteTime": {
     "end_time": "2021-01-12T21:00:22.619968Z",
     "start_time": "2021-01-12T21:00:22.598971Z"
    }
   },
   "outputs": [
    {
     "data": {
      "text/plain": [
       "'CONFUSION MATRIX'"
      ]
     },
     "execution_count": 343,
     "metadata": {},
     "output_type": "execute_result"
    },
    {
     "name": "stdout",
     "output_type": "stream",
     "text": [
      "The model with dummy variable coding output: \n"
     ]
    },
    {
     "data": {
      "text/plain": [
       "array([[93, 17],\n",
       "       [17, 52]])"
      ]
     },
     "execution_count": 343,
     "metadata": {},
     "output_type": "execute_result"
    },
    {
     "name": "stdout",
     "output_type": "stream",
     "text": [
      "              precision    recall  f1-score   support\n",
      "\n",
      "           0       0.85      0.85      0.85       110\n",
      "           1       0.75      0.75      0.75        69\n",
      "\n",
      "    accuracy                           0.81       179\n",
      "   macro avg       0.80      0.80      0.80       179\n",
      "weighted avg       0.81      0.81      0.81       179\n",
      "\n"
     ]
    },
    {
     "data": {
      "text/plain": [
       "'PERFORMANCE MEASUREMENT'"
      ]
     },
     "execution_count": 343,
     "metadata": {},
     "output_type": "execute_result"
    }
   ],
   "source": [
    "\"\"\"CONFUSION MATRIX\"\"\"\n",
    "from sklearn import metrics\n",
    "from sklearn.metrics import confusion_matrix\n",
    "from sklearn.metrics import classification_report\n",
    "\n",
    "print(\"The model with dummy variable coding output: \")\n",
    "confusion_matrix(predict_test_df.actual, predict_test_df.predicted.astype('int'))\n",
    "lg_reg_report_50 = (classification_report(y_test, predict_test_df.predicted.astype('int')))\n",
    "print(lg_reg_report_50)\n",
    "\n",
    "\"\"\"PERFORMANCE MEASUREMENT\"\"\"\n",
    "def measure_performance (clasf_matrix):\n",
    "    measure = pd.DataFrame({\n",
    "                        'sensitivity': [round(clasf_matrix[0,0]/(clasf_matrix[0,0]+clasf_matrix[0,1]),2)], \n",
    "                        'specificity': [round(clasf_matrix[1,1]/(clasf_matrix[1,0]+clasf_matrix[1,1]),2)],\n",
    "                        'recall': [round(clasf_matrix[0,0]/(clasf_matrix[0,0]+clasf_matrix[0,1]),2)],\n",
    "                        'precision': [round(clasf_matrix[0,0]/(clasf_matrix[0,0]+clasf_matrix[1,0]),2)],\n",
    "                        'overall_acc': [round((clasf_matrix[0,0]+clasf_matrix[1,1])/\n",
    "                                              (clasf_matrix[0,0]+clasf_matrix[0,1]+clasf_matrix[1,0]+clasf_matrix[1,1]),2)]\n",
    "                       })\n",
    "    return measure\n",
    "\n",
    "cm = metrics.confusion_matrix(predict_test_df.actual, predict_test_df.predicted.astype(int))"
   ]
  },
  {
   "cell_type": "code",
   "execution_count": 344,
   "metadata": {
    "ExecuteTime": {
     "end_time": "2021-01-12T21:00:25.611126Z",
     "start_time": "2021-01-12T21:00:25.602432Z"
    }
   },
   "outputs": [
    {
     "data": {
      "text/html": [
       "<div>\n",
       "<style scoped>\n",
       "    .dataframe tbody tr th:only-of-type {\n",
       "        vertical-align: middle;\n",
       "    }\n",
       "\n",
       "    .dataframe tbody tr th {\n",
       "        vertical-align: top;\n",
       "    }\n",
       "\n",
       "    .dataframe thead th {\n",
       "        text-align: right;\n",
       "    }\n",
       "</style>\n",
       "<table border=\"1\" class=\"dataframe\">\n",
       "  <thead>\n",
       "    <tr style=\"text-align: right;\">\n",
       "      <th></th>\n",
       "      <th>sensitivity</th>\n",
       "      <th>specificity</th>\n",
       "      <th>recall</th>\n",
       "      <th>precision</th>\n",
       "      <th>overall_acc</th>\n",
       "    </tr>\n",
       "  </thead>\n",
       "  <tbody>\n",
       "    <tr>\n",
       "      <th>0</th>\n",
       "      <td>0.85</td>\n",
       "      <td>0.75</td>\n",
       "      <td>0.85</td>\n",
       "      <td>0.85</td>\n",
       "      <td>0.81</td>\n",
       "    </tr>\n",
       "  </tbody>\n",
       "</table>\n",
       "</div>"
      ],
      "text/plain": [
       "   sensitivity  specificity  recall  precision  overall_acc\n",
       "0         0.85         0.75    0.85       0.85         0.81"
      ]
     },
     "execution_count": 344,
     "metadata": {},
     "output_type": "execute_result"
    }
   ],
   "source": [
    "lg_reg_metrics_df = pd.DataFrame(measure_performance(cm))\n",
    "lg_reg_metrics_df"
   ]
  },
  {
   "cell_type": "code",
   "execution_count": 347,
   "metadata": {
    "ExecuteTime": {
     "end_time": "2021-01-12T21:03:34.764095Z",
     "start_time": "2021-01-12T21:03:34.751186Z"
    }
   },
   "outputs": [
    {
     "data": {
      "text/plain": [
       "'optimal cut-off'"
      ]
     },
     "execution_count": 347,
     "metadata": {},
     "output_type": "execute_result"
    },
    {
     "data": {
      "text/plain": [
       "'COST TABLE'"
      ]
     },
     "execution_count": 347,
     "metadata": {},
     "output_type": "execute_result"
    },
    {
     "name": "stdout",
     "output_type": "stream",
     "text": [
      "              Not-survived  Survived\n",
      "Not-survived             0         1\n",
      "Survived                 2         0\n"
     ]
    }
   ],
   "source": [
    "\"\"\"optimal cut-off\"\"\"\n",
    "\n",
    "lg_pred_prob_df = lg_reg_model2.predict(sm.add_constant(X_test))\n",
    "n = len(X_test)\n",
    "\n",
    "# -->since classifying someone as winning and then losing in actual would cost us a lot hence assigning double \n",
    "# penalty in this case\n",
    "\n",
    "\"\"\"COST TABLE\"\"\"\n",
    "d = {\"Not-survived\":(0,2), \"Survived\": (1,0)} \n",
    "\n",
    "costs = pd.DataFrame(d, index = ('Not-survived', 'Survived'))\n",
    "\n",
    "\n",
    "print(costs)"
   ]
  },
  {
   "cell_type": "code",
   "execution_count": null,
   "metadata": {},
   "outputs": [],
   "source": [
    "X_test['']"
   ]
  },
  {
   "cell_type": "code",
   "execution_count": 351,
   "metadata": {
    "ExecuteTime": {
     "end_time": "2021-01-12T21:06:19.137775Z",
     "start_time": "2021-01-12T21:06:19.096846Z"
    }
   },
   "outputs": [
    {
     "data": {
      "text/html": [
       "<div>\n",
       "<style scoped>\n",
       "    .dataframe tbody tr th:only-of-type {\n",
       "        vertical-align: middle;\n",
       "    }\n",
       "\n",
       "    .dataframe tbody tr th {\n",
       "        vertical-align: top;\n",
       "    }\n",
       "\n",
       "    .dataframe thead th {\n",
       "        text-align: right;\n",
       "    }\n",
       "</style>\n",
       "<table border=\"1\" class=\"dataframe\">\n",
       "  <thead>\n",
       "    <tr style=\"text-align: right;\">\n",
       "      <th></th>\n",
       "      <th>cutoff</th>\n",
       "      <th>P00</th>\n",
       "      <th>P01</th>\n",
       "      <th>P10</th>\n",
       "      <th>P11</th>\n",
       "    </tr>\n",
       "  </thead>\n",
       "  <tbody>\n",
       "    <tr>\n",
       "      <th>0</th>\n",
       "      <td>0.00</td>\n",
       "      <td>0.000000</td>\n",
       "      <td>1.000000</td>\n",
       "      <td>0.000000</td>\n",
       "      <td>1.000000</td>\n",
       "    </tr>\n",
       "    <tr>\n",
       "      <th>1</th>\n",
       "      <td>0.05</td>\n",
       "      <td>0.018182</td>\n",
       "      <td>0.981818</td>\n",
       "      <td>0.000000</td>\n",
       "      <td>1.000000</td>\n",
       "    </tr>\n",
       "    <tr>\n",
       "      <th>2</th>\n",
       "      <td>0.10</td>\n",
       "      <td>0.381818</td>\n",
       "      <td>0.618182</td>\n",
       "      <td>0.072464</td>\n",
       "      <td>0.927536</td>\n",
       "    </tr>\n",
       "    <tr>\n",
       "      <th>3</th>\n",
       "      <td>0.15</td>\n",
       "      <td>0.572727</td>\n",
       "      <td>0.427273</td>\n",
       "      <td>0.130435</td>\n",
       "      <td>0.869565</td>\n",
       "    </tr>\n",
       "    <tr>\n",
       "      <th>4</th>\n",
       "      <td>0.20</td>\n",
       "      <td>0.636364</td>\n",
       "      <td>0.363636</td>\n",
       "      <td>0.159420</td>\n",
       "      <td>0.840580</td>\n",
       "    </tr>\n",
       "    <tr>\n",
       "      <th>5</th>\n",
       "      <td>0.25</td>\n",
       "      <td>0.663636</td>\n",
       "      <td>0.336364</td>\n",
       "      <td>0.173913</td>\n",
       "      <td>0.826087</td>\n",
       "    </tr>\n",
       "    <tr>\n",
       "      <th>6</th>\n",
       "      <td>0.30</td>\n",
       "      <td>0.700000</td>\n",
       "      <td>0.300000</td>\n",
       "      <td>0.217391</td>\n",
       "      <td>0.782609</td>\n",
       "    </tr>\n",
       "    <tr>\n",
       "      <th>7</th>\n",
       "      <td>0.35</td>\n",
       "      <td>0.763636</td>\n",
       "      <td>0.236364</td>\n",
       "      <td>0.246377</td>\n",
       "      <td>0.753623</td>\n",
       "    </tr>\n",
       "    <tr>\n",
       "      <th>8</th>\n",
       "      <td>0.40</td>\n",
       "      <td>0.809091</td>\n",
       "      <td>0.190909</td>\n",
       "      <td>0.246377</td>\n",
       "      <td>0.753623</td>\n",
       "    </tr>\n",
       "    <tr>\n",
       "      <th>9</th>\n",
       "      <td>0.45</td>\n",
       "      <td>0.845455</td>\n",
       "      <td>0.154545</td>\n",
       "      <td>0.246377</td>\n",
       "      <td>0.753623</td>\n",
       "    </tr>\n",
       "    <tr>\n",
       "      <th>10</th>\n",
       "      <td>0.50</td>\n",
       "      <td>0.881818</td>\n",
       "      <td>0.118182</td>\n",
       "      <td>0.333333</td>\n",
       "      <td>0.666667</td>\n",
       "    </tr>\n",
       "    <tr>\n",
       "      <th>11</th>\n",
       "      <td>0.55</td>\n",
       "      <td>0.909091</td>\n",
       "      <td>0.090909</td>\n",
       "      <td>0.420290</td>\n",
       "      <td>0.579710</td>\n",
       "    </tr>\n",
       "    <tr>\n",
       "      <th>12</th>\n",
       "      <td>0.60</td>\n",
       "      <td>0.936364</td>\n",
       "      <td>0.063636</td>\n",
       "      <td>0.449275</td>\n",
       "      <td>0.550725</td>\n",
       "    </tr>\n",
       "    <tr>\n",
       "      <th>13</th>\n",
       "      <td>0.65</td>\n",
       "      <td>0.954545</td>\n",
       "      <td>0.045455</td>\n",
       "      <td>0.463768</td>\n",
       "      <td>0.536232</td>\n",
       "    </tr>\n",
       "    <tr>\n",
       "      <th>14</th>\n",
       "      <td>0.70</td>\n",
       "      <td>0.981818</td>\n",
       "      <td>0.018182</td>\n",
       "      <td>0.565217</td>\n",
       "      <td>0.434783</td>\n",
       "    </tr>\n",
       "    <tr>\n",
       "      <th>15</th>\n",
       "      <td>0.75</td>\n",
       "      <td>0.981818</td>\n",
       "      <td>0.018182</td>\n",
       "      <td>0.565217</td>\n",
       "      <td>0.434783</td>\n",
       "    </tr>\n",
       "    <tr>\n",
       "      <th>16</th>\n",
       "      <td>0.80</td>\n",
       "      <td>0.981818</td>\n",
       "      <td>0.018182</td>\n",
       "      <td>0.623188</td>\n",
       "      <td>0.376812</td>\n",
       "    </tr>\n",
       "    <tr>\n",
       "      <th>17</th>\n",
       "      <td>0.85</td>\n",
       "      <td>0.981818</td>\n",
       "      <td>0.018182</td>\n",
       "      <td>0.739130</td>\n",
       "      <td>0.260870</td>\n",
       "    </tr>\n",
       "    <tr>\n",
       "      <th>18</th>\n",
       "      <td>0.90</td>\n",
       "      <td>0.990909</td>\n",
       "      <td>0.009091</td>\n",
       "      <td>0.855072</td>\n",
       "      <td>0.144928</td>\n",
       "    </tr>\n",
       "    <tr>\n",
       "      <th>19</th>\n",
       "      <td>0.95</td>\n",
       "      <td>0.990909</td>\n",
       "      <td>0.009091</td>\n",
       "      <td>0.913043</td>\n",
       "      <td>0.086957</td>\n",
       "    </tr>\n",
       "  </tbody>\n",
       "</table>\n",
       "</div>"
      ],
      "text/plain": [
       "    cutoff       P00       P01       P10       P11\n",
       "0     0.00  0.000000  1.000000  0.000000  1.000000\n",
       "1     0.05  0.018182  0.981818  0.000000  1.000000\n",
       "2     0.10  0.381818  0.618182  0.072464  0.927536\n",
       "3     0.15  0.572727  0.427273  0.130435  0.869565\n",
       "4     0.20  0.636364  0.363636  0.159420  0.840580\n",
       "5     0.25  0.663636  0.336364  0.173913  0.826087\n",
       "6     0.30  0.700000  0.300000  0.217391  0.782609\n",
       "7     0.35  0.763636  0.236364  0.246377  0.753623\n",
       "8     0.40  0.809091  0.190909  0.246377  0.753623\n",
       "9     0.45  0.845455  0.154545  0.246377  0.753623\n",
       "10    0.50  0.881818  0.118182  0.333333  0.666667\n",
       "11    0.55  0.909091  0.090909  0.420290  0.579710\n",
       "12    0.60  0.936364  0.063636  0.449275  0.550725\n",
       "13    0.65  0.954545  0.045455  0.463768  0.536232\n",
       "14    0.70  0.981818  0.018182  0.565217  0.434783\n",
       "15    0.75  0.981818  0.018182  0.565217  0.434783\n",
       "16    0.80  0.981818  0.018182  0.623188  0.376812\n",
       "17    0.85  0.981818  0.018182  0.739130  0.260870\n",
       "18    0.90  0.990909  0.009091  0.855072  0.144928\n",
       "19    0.95  0.990909  0.009091  0.913043  0.086957"
      ]
     },
     "execution_count": 351,
     "metadata": {},
     "output_type": "execute_result"
    }
   ],
   "source": [
    "def frange(start, stop, step):\n",
    "     s = start\n",
    "     while s < stop:\n",
    "         yield s\n",
    "         s += step\n",
    "#creating empty vectors to store the results.\n",
    "cutoff = []\n",
    "P11 = [] #correct classification of positive as positive\n",
    "P00 = [] #correct classification of negative as negative\n",
    "P10 = [] #misclassification of positive class to negative class\n",
    "P01 = [] #misclassification of negative class to positive class\n",
    "\n",
    "for i in frange(0.00, 1, 0.05):\n",
    "    predicted_y = lg_pred_prob_df.map(lambda x: 1 if x > i else 0)\n",
    "    tbl = metrics.confusion_matrix(y_test, predicted_y)\n",
    "\n",
    "    if ( i <= 1):\n",
    "        j = int(20*i)\n",
    "        P01.append(tbl[0,1]/(tbl[0,1] + tbl[0,0]))\n",
    "        P00.append(tbl[0,0]/(tbl[0,1] + tbl[0,0]))\n",
    "        P10.append(tbl[1,0]/(tbl[1,0] + tbl[1,1]))\n",
    "        P11.append(tbl[1,1]/(tbl[1,0] + tbl[1,1]))\n",
    "        cutoff.append(i)\n",
    "\n",
    "d = {'cutoff':cutoff,'P10':P10,'P01': P01,'P00': P00,'P11':P11}\n",
    "df_cost_table = pd.DataFrame(d, columns=['cutoff','P00','P01','P10','P11'])\n",
    "\n",
    "df_cost_table"
   ]
  },
  {
   "cell_type": "code",
   "execution_count": 352,
   "metadata": {
    "ExecuteTime": {
     "end_time": "2021-01-12T21:06:43.276388Z",
     "start_time": "2021-01-12T21:06:43.247225Z"
    }
   },
   "outputs": [
    {
     "data": {
      "text/html": [
       "<div>\n",
       "<style scoped>\n",
       "    .dataframe tbody tr th:only-of-type {\n",
       "        vertical-align: middle;\n",
       "    }\n",
       "\n",
       "    .dataframe tbody tr th {\n",
       "        vertical-align: top;\n",
       "    }\n",
       "\n",
       "    .dataframe thead th {\n",
       "        text-align: right;\n",
       "    }\n",
       "</style>\n",
       "<table border=\"1\" class=\"dataframe\">\n",
       "  <thead>\n",
       "    <tr style=\"text-align: right;\">\n",
       "      <th></th>\n",
       "      <th>cutoff</th>\n",
       "      <th>P00</th>\n",
       "      <th>P01</th>\n",
       "      <th>P10</th>\n",
       "      <th>P11</th>\n",
       "      <th>msclaf_cost</th>\n",
       "      <th>youden_index</th>\n",
       "    </tr>\n",
       "  </thead>\n",
       "  <tbody>\n",
       "    <tr>\n",
       "      <th>0</th>\n",
       "      <td>0.00</td>\n",
       "      <td>0.000000</td>\n",
       "      <td>1.000000</td>\n",
       "      <td>0.000000</td>\n",
       "      <td>1.000000</td>\n",
       "      <td>1.000000</td>\n",
       "      <td>0.000000</td>\n",
       "    </tr>\n",
       "    <tr>\n",
       "      <th>1</th>\n",
       "      <td>0.05</td>\n",
       "      <td>0.018182</td>\n",
       "      <td>0.981818</td>\n",
       "      <td>0.000000</td>\n",
       "      <td>1.000000</td>\n",
       "      <td>0.981818</td>\n",
       "      <td>0.018182</td>\n",
       "    </tr>\n",
       "    <tr>\n",
       "      <th>2</th>\n",
       "      <td>0.10</td>\n",
       "      <td>0.381818</td>\n",
       "      <td>0.618182</td>\n",
       "      <td>0.072464</td>\n",
       "      <td>0.927536</td>\n",
       "      <td>0.763109</td>\n",
       "      <td>0.309354</td>\n",
       "    </tr>\n",
       "    <tr>\n",
       "      <th>3</th>\n",
       "      <td>0.15</td>\n",
       "      <td>0.572727</td>\n",
       "      <td>0.427273</td>\n",
       "      <td>0.130435</td>\n",
       "      <td>0.869565</td>\n",
       "      <td>0.688142</td>\n",
       "      <td>0.442292</td>\n",
       "    </tr>\n",
       "    <tr>\n",
       "      <th>4</th>\n",
       "      <td>0.20</td>\n",
       "      <td>0.636364</td>\n",
       "      <td>0.363636</td>\n",
       "      <td>0.159420</td>\n",
       "      <td>0.840580</td>\n",
       "      <td>0.682477</td>\n",
       "      <td>0.476943</td>\n",
       "    </tr>\n",
       "    <tr>\n",
       "      <th>5</th>\n",
       "      <td>0.25</td>\n",
       "      <td>0.663636</td>\n",
       "      <td>0.336364</td>\n",
       "      <td>0.173913</td>\n",
       "      <td>0.826087</td>\n",
       "      <td>0.684190</td>\n",
       "      <td>0.489723</td>\n",
       "    </tr>\n",
       "    <tr>\n",
       "      <th>6</th>\n",
       "      <td>0.30</td>\n",
       "      <td>0.700000</td>\n",
       "      <td>0.300000</td>\n",
       "      <td>0.217391</td>\n",
       "      <td>0.782609</td>\n",
       "      <td>0.734783</td>\n",
       "      <td>0.482609</td>\n",
       "    </tr>\n",
       "    <tr>\n",
       "      <th>7</th>\n",
       "      <td>0.35</td>\n",
       "      <td>0.763636</td>\n",
       "      <td>0.236364</td>\n",
       "      <td>0.246377</td>\n",
       "      <td>0.753623</td>\n",
       "      <td>0.729117</td>\n",
       "      <td>0.517260</td>\n",
       "    </tr>\n",
       "    <tr>\n",
       "      <th>8</th>\n",
       "      <td>0.40</td>\n",
       "      <td>0.809091</td>\n",
       "      <td>0.190909</td>\n",
       "      <td>0.246377</td>\n",
       "      <td>0.753623</td>\n",
       "      <td>0.683663</td>\n",
       "      <td>0.562714</td>\n",
       "    </tr>\n",
       "    <tr>\n",
       "      <th>9</th>\n",
       "      <td>0.45</td>\n",
       "      <td>0.845455</td>\n",
       "      <td>0.154545</td>\n",
       "      <td>0.246377</td>\n",
       "      <td>0.753623</td>\n",
       "      <td>0.647299</td>\n",
       "      <td>0.599078</td>\n",
       "    </tr>\n",
       "    <tr>\n",
       "      <th>10</th>\n",
       "      <td>0.50</td>\n",
       "      <td>0.881818</td>\n",
       "      <td>0.118182</td>\n",
       "      <td>0.333333</td>\n",
       "      <td>0.666667</td>\n",
       "      <td>0.784848</td>\n",
       "      <td>0.548485</td>\n",
       "    </tr>\n",
       "    <tr>\n",
       "      <th>11</th>\n",
       "      <td>0.55</td>\n",
       "      <td>0.909091</td>\n",
       "      <td>0.090909</td>\n",
       "      <td>0.420290</td>\n",
       "      <td>0.579710</td>\n",
       "      <td>0.931489</td>\n",
       "      <td>0.488801</td>\n",
       "    </tr>\n",
       "    <tr>\n",
       "      <th>12</th>\n",
       "      <td>0.60</td>\n",
       "      <td>0.936364</td>\n",
       "      <td>0.063636</td>\n",
       "      <td>0.449275</td>\n",
       "      <td>0.550725</td>\n",
       "      <td>0.962187</td>\n",
       "      <td>0.487088</td>\n",
       "    </tr>\n",
       "    <tr>\n",
       "      <th>13</th>\n",
       "      <td>0.65</td>\n",
       "      <td>0.954545</td>\n",
       "      <td>0.045455</td>\n",
       "      <td>0.463768</td>\n",
       "      <td>0.536232</td>\n",
       "      <td>0.972991</td>\n",
       "      <td>0.490777</td>\n",
       "    </tr>\n",
       "    <tr>\n",
       "      <th>14</th>\n",
       "      <td>0.70</td>\n",
       "      <td>0.981818</td>\n",
       "      <td>0.018182</td>\n",
       "      <td>0.565217</td>\n",
       "      <td>0.434783</td>\n",
       "      <td>1.148617</td>\n",
       "      <td>0.416601</td>\n",
       "    </tr>\n",
       "    <tr>\n",
       "      <th>15</th>\n",
       "      <td>0.75</td>\n",
       "      <td>0.981818</td>\n",
       "      <td>0.018182</td>\n",
       "      <td>0.565217</td>\n",
       "      <td>0.434783</td>\n",
       "      <td>1.148617</td>\n",
       "      <td>0.416601</td>\n",
       "    </tr>\n",
       "    <tr>\n",
       "      <th>16</th>\n",
       "      <td>0.80</td>\n",
       "      <td>0.981818</td>\n",
       "      <td>0.018182</td>\n",
       "      <td>0.623188</td>\n",
       "      <td>0.376812</td>\n",
       "      <td>1.264559</td>\n",
       "      <td>0.358630</td>\n",
       "    </tr>\n",
       "    <tr>\n",
       "      <th>17</th>\n",
       "      <td>0.85</td>\n",
       "      <td>0.981818</td>\n",
       "      <td>0.018182</td>\n",
       "      <td>0.739130</td>\n",
       "      <td>0.260870</td>\n",
       "      <td>1.496443</td>\n",
       "      <td>0.242688</td>\n",
       "    </tr>\n",
       "    <tr>\n",
       "      <th>18</th>\n",
       "      <td>0.90</td>\n",
       "      <td>0.990909</td>\n",
       "      <td>0.009091</td>\n",
       "      <td>0.855072</td>\n",
       "      <td>0.144928</td>\n",
       "      <td>1.719236</td>\n",
       "      <td>0.135837</td>\n",
       "    </tr>\n",
       "    <tr>\n",
       "      <th>19</th>\n",
       "      <td>0.95</td>\n",
       "      <td>0.990909</td>\n",
       "      <td>0.009091</td>\n",
       "      <td>0.913043</td>\n",
       "      <td>0.086957</td>\n",
       "      <td>1.835178</td>\n",
       "      <td>0.077866</td>\n",
       "    </tr>\n",
       "  </tbody>\n",
       "</table>\n",
       "</div>"
      ],
      "text/plain": [
       "    cutoff       P00       P01       P10       P11  msclaf_cost  youden_index\n",
       "0     0.00  0.000000  1.000000  0.000000  1.000000     1.000000      0.000000\n",
       "1     0.05  0.018182  0.981818  0.000000  1.000000     0.981818      0.018182\n",
       "2     0.10  0.381818  0.618182  0.072464  0.927536     0.763109      0.309354\n",
       "3     0.15  0.572727  0.427273  0.130435  0.869565     0.688142      0.442292\n",
       "4     0.20  0.636364  0.363636  0.159420  0.840580     0.682477      0.476943\n",
       "5     0.25  0.663636  0.336364  0.173913  0.826087     0.684190      0.489723\n",
       "6     0.30  0.700000  0.300000  0.217391  0.782609     0.734783      0.482609\n",
       "7     0.35  0.763636  0.236364  0.246377  0.753623     0.729117      0.517260\n",
       "8     0.40  0.809091  0.190909  0.246377  0.753623     0.683663      0.562714\n",
       "9     0.45  0.845455  0.154545  0.246377  0.753623     0.647299      0.599078\n",
       "10    0.50  0.881818  0.118182  0.333333  0.666667     0.784848      0.548485\n",
       "11    0.55  0.909091  0.090909  0.420290  0.579710     0.931489      0.488801\n",
       "12    0.60  0.936364  0.063636  0.449275  0.550725     0.962187      0.487088\n",
       "13    0.65  0.954545  0.045455  0.463768  0.536232     0.972991      0.490777\n",
       "14    0.70  0.981818  0.018182  0.565217  0.434783     1.148617      0.416601\n",
       "15    0.75  0.981818  0.018182  0.565217  0.434783     1.148617      0.416601\n",
       "16    0.80  0.981818  0.018182  0.623188  0.376812     1.264559      0.358630\n",
       "17    0.85  0.981818  0.018182  0.739130  0.260870     1.496443      0.242688\n",
       "18    0.90  0.990909  0.009091  0.855072  0.144928     1.719236      0.135837\n",
       "19    0.95  0.990909  0.009091  0.913043  0.086957     1.835178      0.077866"
      ]
     },
     "execution_count": 352,
     "metadata": {},
     "output_type": "execute_result"
    }
   ],
   "source": [
    "df_cost_table['msclaf_cost'] = df_cost_table.P01*costs.iloc[0][1]+df_cost_table.P10*costs.iloc[1][0]\n",
    "df_cost_table['youden_index'] = df_cost_table.P00+df_cost_table.P11 -1\n",
    "df_cost_table"
   ]
  },
  {
   "cell_type": "code",
   "execution_count": 354,
   "metadata": {
    "ExecuteTime": {
     "end_time": "2021-01-12T21:07:45.359945Z",
     "start_time": "2021-01-12T21:07:45.223376Z"
    }
   },
   "outputs": [
    {
     "name": "stdout",
     "output_type": "stream",
     "text": [
      "Cutoff value according to max Youdens index :  [0.45]\n"
     ]
    },
    {
     "data": {
      "image/png": "[encoded data removed]",
      "text/plain": [
       "<Figure size 432x288 with 1 Axes>"
      ]
     },
     "metadata": {
      "needs_background": "light"
     },
     "output_type": "display_data"
    }
   ],
   "source": [
    "\"\"\"MAX YOUDENS INDEX - CUTOFF\"\"\"\n",
    "max_youden_cutoff=df_cost_table.loc[df_cost_table.youden_index==df_cost_table.youden_index.max()]['cutoff'].values\n",
    "\n",
    "plt.plot(df_cost_table.cutoff,df_cost_table.youden_index,label='Youdens curve')\n",
    "plt.title('Youdens Index vs Cutoff-P')\n",
    "plt.axvline(max_youden_cutoff,label='Cutoff',color='b',ls=':')\n",
    "plt.legend()\n",
    "print('Cutoff value according to max Youdens index : ',max_youden_cutoff);"
   ]
  },
  {
   "cell_type": "code",
   "execution_count": 355,
   "metadata": {
    "ExecuteTime": {
     "end_time": "2021-01-12T21:07:47.469970Z",
     "start_time": "2021-01-12T21:07:47.335751Z"
    }
   },
   "outputs": [
    {
     "name": "stdout",
     "output_type": "stream",
     "text": [
      "Cutoff value according to min. Miscalc Penalty  :  [0.45]\n"
     ]
    },
    {
     "data": {
      "image/png": "[encoded data removed]",
      "text/plain": [
       "<Figure size 432x288 with 1 Axes>"
      ]
     },
     "metadata": {
      "needs_background": "light"
     },
     "output_type": "display_data"
    }
   ],
   "source": [
    "\"\"\"MIN PENALTY - CUTOFF\"\"\"\n",
    "min_cost_cutoff=df_cost_table.loc[df_cost_table.msclaf_cost==df_cost_table.msclaf_cost.min()]['cutoff'].values\n",
    "\n",
    "plt.plot(df_cost_table.cutoff,df_cost_table.msclaf_cost,label='Penalty curve')\n",
    "plt.title('Miscalculation Penalty vs Cutoff-P')\n",
    "plt.axvline(min_cost_cutoff,label='Cutoff',color='b',ls=':')\n",
    "plt.legend()\n",
    "print('Cutoff value according to min. Miscalc Penalty  : ',min_cost_cutoff);"
   ]
  },
  {
   "cell_type": "code",
   "execution_count": 360,
   "metadata": {
    "ExecuteTime": {
     "end_time": "2021-01-12T21:10:19.401740Z",
     "start_time": "2021-01-12T21:10:19.233412Z"
    }
   },
   "outputs": [
    {
     "data": {
      "text/plain": [
       "'ROC CURVE AND OPTIMAL CUTOFF'"
      ]
     },
     "execution_count": 360,
     "metadata": {},
     "output_type": "execute_result"
    },
    {
     "data": {
      "image/png": "[encoded data removed]",
      "text/plain": [
       "<Figure size 720x720 with 1 Axes>"
      ]
     },
     "metadata": {
      "needs_background": "light"
     },
     "output_type": "display_data"
    },
    {
     "data": {
      "text/plain": [
       "0.85"
      ]
     },
     "execution_count": 360,
     "metadata": {},
     "output_type": "execute_result"
    }
   ],
   "source": [
    "\"\"'ROC CURVE AND OPTIMAL CUTOFF'\"\"\n",
    "\n",
    "def draw_roc( actual, probs ):\n",
    "    fpr, tpr, thresholds = metrics.roc_curve( actual, probs, drop_intermediate = False )\n",
    "    auc_score = metrics.roc_auc_score( actual, probs )\n",
    "    plt.figure(figsize=(10, 10))\n",
    "    plt.plot( fpr, tpr, label='ROC curve (area = %0.2f)' % auc_score )\n",
    "    plt.plot([0, 1], [0, 1], 'k--')\n",
    "    plt.xlim([0.0, 1.0])\n",
    "    plt.ylim([0.0, 1.05])\n",
    "    plt.xlabel('False Positive Rate or [1 - True Negative Rate]')\n",
    "    plt.ylabel('True Positive Rate')\n",
    "    plt.title('Receiver operating characteristic example')\n",
    "    plt.legend(loc=\"lower right\")\n",
    "    plt.show()\n",
    "\n",
    "    return fpr, tpr, thresholds\n",
    "\n",
    "fpr, tpr, thresholds = draw_roc(predict_test_df.actual, predict_test_df.predicted_prob )\n",
    "auc_score = metrics.roc_auc_score( predict_test_df.actual, predict_test_df.predicted_prob  )\n",
    "round( float( auc_score ), 2 )"
   ]
  },
  {
   "cell_type": "markdown",
   "metadata": {},
   "source": [
    "## Actual Predictions"
   ]
  },
  {
   "cell_type": "code",
   "execution_count": 363,
   "metadata": {
    "ExecuteTime": {
     "end_time": "2021-01-12T21:14:00.432143Z",
     "start_time": "2021-01-12T21:14:00.427292Z"
    }
   },
   "outputs": [],
   "source": [
    "## Combining the data \n",
    "# taking signifigant variables only\n",
    "y_train=train_v5['Survived']\n",
    "X_train=train_v5[sig_var]\n",
    "X_test=test_v5[sig_var]"
   ]
  },
  {
   "cell_type": "code",
   "execution_count": 364,
   "metadata": {
    "ExecuteTime": {
     "end_time": "2021-01-12T21:14:12.869719Z",
     "start_time": "2021-01-12T21:14:12.815993Z"
    }
   },
   "outputs": [
    {
     "data": {
      "text/html": [
       "<table class=\"simpletable\">\n",
       "<tr>\n",
       "        <td>Model:</td>               <td>GLM</td>            <td>AIC:</td>        <td>798.5362</td> \n",
       "</tr>\n",
       "<tr>\n",
       "    <td>Link Function:</td>          <td>logit</td>           <td>BIC:</td>       <td>-5224.6886</td>\n",
       "</tr>\n",
       "<tr>\n",
       "  <td>Dependent Variable:</td>     <td>Survived</td>     <td>Log-Likelihood:</td>   <td>-393.27</td> \n",
       "</tr>\n",
       "<tr>\n",
       "         <td>Date:</td>        <td>2021-01-13 02:44</td>    <td>LL-Null:</td>       <td>-593.33</td> \n",
       "</tr>\n",
       "<tr>\n",
       "   <td>No. Observations:</td>         <td>891</td>          <td>Deviance:</td>      <td>786.54</td>  \n",
       "</tr>\n",
       "<tr>\n",
       "       <td>Df Model:</td>              <td>5</td>         <td>Pearson chi2:</td>     <td>929.</td>   \n",
       "</tr>\n",
       "<tr>\n",
       "     <td>Df Residuals:</td>           <td>885</td>           <td>Scale:</td>        <td>1.0000</td>  \n",
       "</tr>\n",
       "<tr>\n",
       "        <td>Method:</td>             <td>IRLS</td>              <td></td>              <td></td>     \n",
       "</tr>\n",
       "</table>\n",
       "<table class=\"simpletable\">\n",
       "<tr>\n",
       "       <td></td>       <th>Coef.</th>  <th>Std.Err.</th>     <th>z</th>     <th>P>|z|</th> <th>[0.025</th>  <th>0.975]</th> \n",
       "</tr>\n",
       "<tr>\n",
       "  <th>const</th>      <td>2.7405</td>   <td>0.3368</td>   <td>8.1365</td>  <td>0.0000</td> <td>2.0803</td>  <td>3.4006</td> \n",
       "</tr>\n",
       "<tr>\n",
       "  <th>SibSp</th>      <td>-0.3563</td>  <td>0.1068</td>   <td>-3.3357</td> <td>0.0009</td> <td>-0.5657</td> <td>-0.1470</td>\n",
       "</tr>\n",
       "<tr>\n",
       "  <th>Sex_male</th>   <td>-2.6920</td>  <td>0.1944</td>  <td>-13.8476</td> <td>0.0000</td> <td>-3.0731</td> <td>-2.3110</td>\n",
       "</tr>\n",
       "<tr>\n",
       "  <th>Cabin_flag</th> <td>1.2589</td>   <td>0.2453</td>   <td>5.1322</td>  <td>0.0000</td> <td>0.7781</td>  <td>1.7397</td> \n",
       "</tr>\n",
       "<tr>\n",
       "  <th>Age_</th>       <td>-0.0353</td>  <td>0.0075</td>   <td>-4.7201</td> <td>0.0000</td> <td>-0.0500</td> <td>-0.0207</td>\n",
       "</tr>\n",
       "<tr>\n",
       "  <th>Pclass_low</th> <td>-1.2659</td>  <td>0.2165</td>   <td>-5.8468</td> <td>0.0000</td> <td>-1.6903</td> <td>-0.8416</td>\n",
       "</tr>\n",
       "</table>"
      ],
      "text/plain": [
       "<class 'statsmodels.iolib.summary2.Summary'>\n",
       "\"\"\"\n",
       "               Results: Generalized linear model\n",
       "===============================================================\n",
       "Model:              GLM              AIC:            798.5362  \n",
       "Link Function:      logit            BIC:            -5224.6886\n",
       "Dependent Variable: Survived         Log-Likelihood: -393.27   \n",
       "Date:               2021-01-13 02:44 LL-Null:        -593.33   \n",
       "No. Observations:   891              Deviance:       786.54    \n",
       "Df Model:           5                Pearson chi2:   929.      \n",
       "Df Residuals:       885              Scale:          1.0000    \n",
       "Method:             IRLS                                       \n",
       "---------------------------------------------------------------\n",
       "                Coef.  Std.Err.    z     P>|z|   [0.025  0.975]\n",
       "---------------------------------------------------------------\n",
       "const           2.7405   0.3368   8.1365 0.0000  2.0803  3.4006\n",
       "SibSp          -0.3563   0.1068  -3.3357 0.0009 -0.5657 -0.1470\n",
       "Sex_male       -2.6920   0.1944 -13.8476 0.0000 -3.0731 -2.3110\n",
       "Cabin_flag      1.2589   0.2453   5.1322 0.0000  0.7781  1.7397\n",
       "Age_           -0.0353   0.0075  -4.7201 0.0000 -0.0500 -0.0207\n",
       "Pclass_low     -1.2659   0.2165  -5.8468 0.0000 -1.6903 -0.8416\n",
       "===============================================================\n",
       "\n",
       "\"\"\""
      ]
     },
     "execution_count": 364,
     "metadata": {},
     "output_type": "execute_result"
    }
   ],
   "source": [
    "import statsmodels.api as sm\n",
    "lg_reg_model2 = sm.GLM(y_train, sm.add_constant(X_train),family=sm.families.Binomial()).fit() # add const and famili bonom???\n",
    "lg_reg_model2.summary2()"
   ]
  },
  {
   "cell_type": "code",
   "execution_count": 304,
   "metadata": {
    "ExecuteTime": {
     "end_time": "2021-01-12T20:43:33.307974Z",
     "start_time": "2021-01-12T20:43:33.305626Z"
    }
   },
   "outputs": [],
   "source": [
    "# ### Only significant variables included in the model\n",
    "\n",
    "# pass_formula = 'Survived ~ C(Pclass)+C(Sex)  +SibSp  +Cabin_flag+Age_'\n",
    "\n",
    "\n",
    "# lg_reg_model2 = smf.glm(formula=pass_formula, data=train_v4, family=sm.families.Binomial()).fit()\n",
    "# lg_reg_model2.summary2()"
   ]
  },
  {
   "cell_type": "code",
   "execution_count": 365,
   "metadata": {
    "ExecuteTime": {
     "end_time": "2021-01-12T21:14:29.117093Z",
     "start_time": "2021-01-12T21:14:29.111743Z"
    }
   },
   "outputs": [
    {
     "data": {
      "text/plain": [
       "'PREDICTED CLASS WITH ACTUAL CLASS'"
      ]
     },
     "execution_count": 365,
     "metadata": {},
     "output_type": "execute_result"
    }
   ],
   "source": [
    "\"\"\"PREDICTED CLASS WITH ACTUAL CLASS\"\"\"\n",
    "def get_predictions ( test_class, model, test_data ):\n",
    "    y_pred_df = pd.DataFrame( { 'actual': test_class,\n",
    "                               'predicted_prob': model.get_prediction(sm.add_constant(test_data)).predicted_mean})\n",
    "    return y_pred_df"
   ]
  },
  {
   "cell_type": "code",
   "execution_count": 370,
   "metadata": {
    "ExecuteTime": {
     "end_time": "2021-01-12T21:22:37.437914Z",
     "start_time": "2021-01-12T21:22:37.426884Z"
    }
   },
   "outputs": [
    {
     "data": {
      "text/plain": [
       "'PREDICTED CLASS WITH ACTUAL CLASS'"
      ]
     },
     "execution_count": 370,
     "metadata": {},
     "output_type": "execute_result"
    },
    {
     "data": {
      "text/html": [
       "<div>\n",
       "<style scoped>\n",
       "    .dataframe tbody tr th:only-of-type {\n",
       "        vertical-align: middle;\n",
       "    }\n",
       "\n",
       "    .dataframe tbody tr th {\n",
       "        vertical-align: top;\n",
       "    }\n",
       "\n",
       "    .dataframe thead th {\n",
       "        text-align: right;\n",
       "    }\n",
       "</style>\n",
       "<table border=\"1\" class=\"dataframe\">\n",
       "  <thead>\n",
       "    <tr style=\"text-align: right;\">\n",
       "      <th></th>\n",
       "      <th>actual</th>\n",
       "      <th>predicted_prob</th>\n",
       "    </tr>\n",
       "  </thead>\n",
       "  <tbody>\n",
       "    <tr>\n",
       "      <th>0</th>\n",
       "      <td>0</td>\n",
       "      <td>0.081767</td>\n",
       "    </tr>\n",
       "    <tr>\n",
       "      <th>1</th>\n",
       "      <td>1</td>\n",
       "      <td>0.367706</td>\n",
       "    </tr>\n",
       "    <tr>\n",
       "      <th>2</th>\n",
       "      <td>0</td>\n",
       "      <td>0.105107</td>\n",
       "    </tr>\n",
       "    <tr>\n",
       "      <th>3</th>\n",
       "      <td>0</td>\n",
       "      <td>0.102357</td>\n",
       "    </tr>\n",
       "    <tr>\n",
       "      <th>4</th>\n",
       "      <td>1</td>\n",
       "      <td>0.584446</td>\n",
       "    </tr>\n",
       "  </tbody>\n",
       "</table>\n",
       "</div>"
      ],
      "text/plain": [
       "   actual  predicted_prob\n",
       "0       0        0.081767\n",
       "1       1        0.367706\n",
       "2       0        0.105107\n",
       "3       0        0.102357\n",
       "4       1        0.584446"
      ]
     },
     "execution_count": 370,
     "metadata": {},
     "output_type": "execute_result"
    }
   ],
   "source": [
    "'PREDICTED CLASS WITH ACTUAL CLASS'\n",
    "predict_test_df = pd.DataFrame(get_predictions(y_test.Survived, lg_reg_model2,X_test))\n",
    "predict_test_df.head()"
   ]
  },
  {
   "cell_type": "code",
   "execution_count": 371,
   "metadata": {
    "ExecuteTime": {
     "end_time": "2021-01-12T21:22:43.663512Z",
     "start_time": "2021-01-12T21:22:43.653867Z"
    }
   },
   "outputs": [
    {
     "data": {
      "text/html": [
       "<div>\n",
       "<style scoped>\n",
       "    .dataframe tbody tr th:only-of-type {\n",
       "        vertical-align: middle;\n",
       "    }\n",
       "\n",
       "    .dataframe tbody tr th {\n",
       "        vertical-align: top;\n",
       "    }\n",
       "\n",
       "    .dataframe thead th {\n",
       "        text-align: right;\n",
       "    }\n",
       "</style>\n",
       "<table border=\"1\" class=\"dataframe\">\n",
       "  <thead>\n",
       "    <tr style=\"text-align: right;\">\n",
       "      <th></th>\n",
       "      <th>actual</th>\n",
       "      <th>predicted_prob</th>\n",
       "      <th>predicted</th>\n",
       "    </tr>\n",
       "  </thead>\n",
       "  <tbody>\n",
       "    <tr>\n",
       "      <th>0</th>\n",
       "      <td>0</td>\n",
       "      <td>0.081767</td>\n",
       "      <td>0</td>\n",
       "    </tr>\n",
       "    <tr>\n",
       "      <th>1</th>\n",
       "      <td>1</td>\n",
       "      <td>0.367706</td>\n",
       "      <td>0</td>\n",
       "    </tr>\n",
       "    <tr>\n",
       "      <th>2</th>\n",
       "      <td>0</td>\n",
       "      <td>0.105107</td>\n",
       "      <td>0</td>\n",
       "    </tr>\n",
       "    <tr>\n",
       "      <th>3</th>\n",
       "      <td>0</td>\n",
       "      <td>0.102357</td>\n",
       "      <td>0</td>\n",
       "    </tr>\n",
       "    <tr>\n",
       "      <th>4</th>\n",
       "      <td>1</td>\n",
       "      <td>0.584446</td>\n",
       "      <td>1</td>\n",
       "    </tr>\n",
       "    <tr>\n",
       "      <th>5</th>\n",
       "      <td>0</td>\n",
       "      <td>0.152894</td>\n",
       "      <td>0</td>\n",
       "    </tr>\n",
       "    <tr>\n",
       "      <th>6</th>\n",
       "      <td>1</td>\n",
       "      <td>0.602229</td>\n",
       "      <td>1</td>\n",
       "    </tr>\n",
       "    <tr>\n",
       "      <th>7</th>\n",
       "      <td>0</td>\n",
       "      <td>0.226822</td>\n",
       "      <td>0</td>\n",
       "    </tr>\n",
       "    <tr>\n",
       "      <th>8</th>\n",
       "      <td>1</td>\n",
       "      <td>0.698183</td>\n",
       "      <td>1</td>\n",
       "    </tr>\n",
       "    <tr>\n",
       "      <th>9</th>\n",
       "      <td>0</td>\n",
       "      <td>0.064648</td>\n",
       "      <td>0</td>\n",
       "    </tr>\n",
       "  </tbody>\n",
       "</table>\n",
       "</div>"
      ],
      "text/plain": [
       "   actual  predicted_prob predicted\n",
       "0       0        0.081767         0\n",
       "1       1        0.367706         0\n",
       "2       0        0.105107         0\n",
       "3       0        0.102357         0\n",
       "4       1        0.584446         1\n",
       "5       0        0.152894         0\n",
       "6       1        0.602229         1\n",
       "7       0        0.226822         0\n",
       "8       1        0.698183         1\n",
       "9       0        0.064648         0"
      ]
     },
     "execution_count": 371,
     "metadata": {},
     "output_type": "execute_result"
    }
   ],
   "source": [
    "#DEFAULT CUTOFF TAKEN =0.7\n",
    "predict_test_df['predicted'] = predict_test_df.predicted_prob.apply(lambda x: '1' if x > 0.45 else '0')\n",
    "predict_test_df[0:10]"
   ]
  },
  {
   "cell_type": "code",
   "execution_count": 378,
   "metadata": {
    "ExecuteTime": {
     "end_time": "2021-01-12T21:26:13.406202Z",
     "start_time": "2021-01-12T21:26:13.396571Z"
    }
   },
   "outputs": [
    {
     "data": {
      "text/html": [
       "<div>\n",
       "<style scoped>\n",
       "    .dataframe tbody tr th:only-of-type {\n",
       "        vertical-align: middle;\n",
       "    }\n",
       "\n",
       "    .dataframe tbody tr th {\n",
       "        vertical-align: top;\n",
       "    }\n",
       "\n",
       "    .dataframe thead th {\n",
       "        text-align: right;\n",
       "    }\n",
       "</style>\n",
       "<table border=\"1\" class=\"dataframe\">\n",
       "  <thead>\n",
       "    <tr style=\"text-align: right;\">\n",
       "      <th></th>\n",
       "      <th>PassengerId</th>\n",
       "      <th>Pclass</th>\n",
       "      <th>Name</th>\n",
       "      <th>Sex</th>\n",
       "      <th>Age</th>\n",
       "      <th>SibSp</th>\n",
       "      <th>Parch</th>\n",
       "      <th>Ticket</th>\n",
       "      <th>Fare</th>\n",
       "      <th>Cabin</th>\n",
       "      <th>Embarked</th>\n",
       "    </tr>\n",
       "  </thead>\n",
       "  <tbody>\n",
       "    <tr>\n",
       "      <th>0</th>\n",
       "      <td>892</td>\n",
       "      <td>3</td>\n",
       "      <td>Kelly, Mr. James</td>\n",
       "      <td>male</td>\n",
       "      <td>34.5</td>\n",
       "      <td>0</td>\n",
       "      <td>0</td>\n",
       "      <td>330911</td>\n",
       "      <td>7.8292</td>\n",
       "      <td>NaN</td>\n",
       "      <td>Q</td>\n",
       "    </tr>\n",
       "    <tr>\n",
       "      <th>1</th>\n",
       "      <td>893</td>\n",
       "      <td>3</td>\n",
       "      <td>Wilkes, Mrs. James (Ellen Needs)</td>\n",
       "      <td>female</td>\n",
       "      <td>47.0</td>\n",
       "      <td>1</td>\n",
       "      <td>0</td>\n",
       "      <td>363272</td>\n",
       "      <td>7.0000</td>\n",
       "      <td>NaN</td>\n",
       "      <td>S</td>\n",
       "    </tr>\n",
       "    <tr>\n",
       "      <th>2</th>\n",
       "      <td>894</td>\n",
       "      <td>2</td>\n",
       "      <td>Myles, Mr. Thomas Francis</td>\n",
       "      <td>male</td>\n",
       "      <td>62.0</td>\n",
       "      <td>0</td>\n",
       "      <td>0</td>\n",
       "      <td>240276</td>\n",
       "      <td>9.6875</td>\n",
       "      <td>NaN</td>\n",
       "      <td>Q</td>\n",
       "    </tr>\n",
       "    <tr>\n",
       "      <th>3</th>\n",
       "      <td>895</td>\n",
       "      <td>3</td>\n",
       "      <td>Wirz, Mr. Albert</td>\n",
       "      <td>male</td>\n",
       "      <td>27.0</td>\n",
       "      <td>0</td>\n",
       "      <td>0</td>\n",
       "      <td>315154</td>\n",
       "      <td>8.6625</td>\n",
       "      <td>NaN</td>\n",
       "      <td>S</td>\n",
       "    </tr>\n",
       "    <tr>\n",
       "      <th>4</th>\n",
       "      <td>896</td>\n",
       "      <td>3</td>\n",
       "      <td>Hirvonen, Mrs. Alexander (Helga E Lindqvist)</td>\n",
       "      <td>female</td>\n",
       "      <td>22.0</td>\n",
       "      <td>1</td>\n",
       "      <td>1</td>\n",
       "      <td>3101298</td>\n",
       "      <td>12.2875</td>\n",
       "      <td>NaN</td>\n",
       "      <td>S</td>\n",
       "    </tr>\n",
       "  </tbody>\n",
       "</table>\n",
       "</div>"
      ],
      "text/plain": [
       "   PassengerId  Pclass                                          Name     Sex  \\\n",
       "0          892       3                              Kelly, Mr. James    male   \n",
       "1          893       3              Wilkes, Mrs. James (Ellen Needs)  female   \n",
       "2          894       2                     Myles, Mr. Thomas Francis    male   \n",
       "3          895       3                              Wirz, Mr. Albert    male   \n",
       "4          896       3  Hirvonen, Mrs. Alexander (Helga E Lindqvist)  female   \n",
       "\n",
       "    Age  SibSp  Parch   Ticket     Fare Cabin Embarked  \n",
       "0  34.5      0      0   330911   7.8292   NaN        Q  \n",
       "1  47.0      1      0   363272   7.0000   NaN        S  \n",
       "2  62.0      0      0   240276   9.6875   NaN        Q  \n",
       "3  27.0      0      0   315154   8.6625   NaN        S  \n",
       "4  22.0      1      1  3101298  12.2875   NaN        S  "
      ]
     },
     "execution_count": 378,
     "metadata": {},
     "output_type": "execute_result"
    }
   ],
   "source": [
    "final_predictions="
   ]
  },
  {
   "cell_type": "code",
   "execution_count": 375,
   "metadata": {
    "ExecuteTime": {
     "end_time": "2021-01-12T21:25:02.654144Z",
     "start_time": "2021-01-12T21:25:02.645793Z"
    }
   },
   "outputs": [
    {
     "data": {
      "text/html": [
       "<div>\n",
       "<style scoped>\n",
       "    .dataframe tbody tr th:only-of-type {\n",
       "        vertical-align: middle;\n",
       "    }\n",
       "\n",
       "    .dataframe tbody tr th {\n",
       "        vertical-align: top;\n",
       "    }\n",
       "\n",
       "    .dataframe thead th {\n",
       "        text-align: right;\n",
       "    }\n",
       "</style>\n",
       "<table border=\"1\" class=\"dataframe\">\n",
       "  <thead>\n",
       "    <tr style=\"text-align: right;\">\n",
       "      <th></th>\n",
       "      <th>SibSp</th>\n",
       "      <th>Sex_male</th>\n",
       "      <th>Cabin_flag</th>\n",
       "      <th>Age_</th>\n",
       "      <th>Pclass_low</th>\n",
       "    </tr>\n",
       "  </thead>\n",
       "  <tbody>\n",
       "    <tr>\n",
       "      <th>0</th>\n",
       "      <td>0</td>\n",
       "      <td>1</td>\n",
       "      <td>0</td>\n",
       "      <td>34.0</td>\n",
       "      <td>1</td>\n",
       "    </tr>\n",
       "    <tr>\n",
       "      <th>1</th>\n",
       "      <td>1</td>\n",
       "      <td>0</td>\n",
       "      <td>0</td>\n",
       "      <td>47.0</td>\n",
       "      <td>1</td>\n",
       "    </tr>\n",
       "    <tr>\n",
       "      <th>2</th>\n",
       "      <td>0</td>\n",
       "      <td>1</td>\n",
       "      <td>0</td>\n",
       "      <td>62.0</td>\n",
       "      <td>0</td>\n",
       "    </tr>\n",
       "    <tr>\n",
       "      <th>3</th>\n",
       "      <td>0</td>\n",
       "      <td>1</td>\n",
       "      <td>0</td>\n",
       "      <td>27.0</td>\n",
       "      <td>1</td>\n",
       "    </tr>\n",
       "    <tr>\n",
       "      <th>4</th>\n",
       "      <td>1</td>\n",
       "      <td>0</td>\n",
       "      <td>0</td>\n",
       "      <td>22.0</td>\n",
       "      <td>1</td>\n",
       "    </tr>\n",
       "  </tbody>\n",
       "</table>\n",
       "</div>"
      ],
      "text/plain": [
       "   SibSp  Sex_male  Cabin_flag  Age_  Pclass_low\n",
       "0      0         1           0  34.0           1\n",
       "1      1         0           0  47.0           1\n",
       "2      0         1           0  62.0           0\n",
       "3      0         1           0  27.0           1\n",
       "4      1         0           0  22.0           1"
      ]
     },
     "execution_count": 375,
     "metadata": {},
     "output_type": "execute_result"
    }
   ],
   "source": [
    "X_test.head()"
   ]
  },
  {
   "cell_type": "code",
   "execution_count": 379,
   "metadata": {
    "ExecuteTime": {
     "end_time": "2021-01-12T21:27:01.566994Z",
     "start_time": "2021-01-12T21:27:01.562597Z"
    }
   },
   "outputs": [],
   "source": [
    "y_test['Predicted']=predict_test_df.predicted"
   ]
  },
  {
   "cell_type": "code",
   "execution_count": 383,
   "metadata": {
    "ExecuteTime": {
     "end_time": "2021-01-12T21:28:20.019863Z",
     "start_time": "2021-01-12T21:28:20.015906Z"
    }
   },
   "outputs": [],
   "source": [
    "final_prediction_logistic=y_test[['PassengerId','Predicted']].copy()\n",
    "final_prediction_logistic.columns=['PassengerId','Survived']"
   ]
  },
  {
   "cell_type": "code",
   "execution_count": 387,
   "metadata": {
    "ExecuteTime": {
     "end_time": "2021-01-12T21:32:14.643286Z",
     "start_time": "2021-01-12T21:32:14.637490Z"
    }
   },
   "outputs": [],
   "source": [
    "final_prediction_logistic.to_csv('logistic_regression_optimal_cutoff.csv',index=False)"
   ]
  },
  {
   "cell_type": "markdown",
   "metadata": {
    "ExecuteTime": {
     "end_time": "2021-01-12T21:36:43.605559Z",
     "start_time": "2021-01-12T21:36:43.362408Z"
    }
   },
   "source": [
    "### Random forest Classifier"
   ]
  },
  {
   "cell_type": "code",
   "execution_count": 391,
   "metadata": {
    "ExecuteTime": {
     "end_time": "2021-01-12T21:40:45.705559Z",
     "start_time": "2021-01-12T21:40:45.699621Z"
    }
   },
   "outputs": [],
   "source": [
    "y_train=train_v5['Survived']\n",
    "X_train=train_v5[list(set(train_v5.columns)-{'PassengerId','Survived'})]\n",
    "X_test=test_v5[list(set(test_v5.columns)-{'PassengerId'})]"
   ]
  },
  {
   "cell_type": "code",
   "execution_count": 392,
   "metadata": {
    "ExecuteTime": {
     "end_time": "2021-01-12T21:40:49.611438Z",
     "start_time": "2021-01-12T21:40:49.423851Z"
    }
   },
   "outputs": [
    {
     "data": {
      "text/plain": [
       "RandomForestClassifier()"
      ]
     },
     "execution_count": 392,
     "metadata": {},
     "output_type": "execute_result"
    }
   ],
   "source": [
    "#Import Random Forest Model\n",
    "from sklearn.ensemble import RandomForestClassifier\n",
    "\n",
    "#Create a Gaussian Classifier\n",
    "clf=RandomForestClassifier(n_estimators=100)\n",
    "\n",
    "#Train the model using the training sets y_pred=clf.predict(X_test)\n",
    "clf.fit(X_train,y_train)\n",
    "\n",
    "y_pred=clf.predict(X_test)"
   ]
  },
  {
   "cell_type": "code",
   "execution_count": 393,
   "metadata": {
    "ExecuteTime": {
     "end_time": "2021-01-12T21:40:50.901383Z",
     "start_time": "2021-01-12T21:40:50.898658Z"
    }
   },
   "outputs": [],
   "source": [
    "final_prediction_logistic['Survived']=y_pred"
   ]
  },
  {
   "cell_type": "code",
   "execution_count": 394,
   "metadata": {
    "ExecuteTime": {
     "end_time": "2021-01-12T21:40:52.391929Z",
     "start_time": "2021-01-12T21:40:52.386809Z"
    }
   },
   "outputs": [],
   "source": [
    "final_prediction_logistic.to_csv('Predictions_RF.csv',index=False)"
   ]
  },
  {
   "cell_type": "code",
   "execution_count": 397,
   "metadata": {
    "ExecuteTime": {
     "end_time": "2021-01-12T21:45:03.418232Z",
     "start_time": "2021-01-12T21:45:03.405918Z"
    }
   },
   "outputs": [
    {
     "data": {
      "text/plain": [
       "Age_          0.266135\n",
       "Sex_male      0.255665\n",
       "Fare          0.240606\n",
       "Pclass_low    0.062194\n",
       "Cabin_flag    0.047144\n",
       "SibSp         0.046174\n",
       "Parch         0.035059\n",
       "Embarked_S    0.024128\n",
       "Pclass_med    0.014155\n",
       "Embarked_Q    0.008740\n",
       "dtype: float64"
      ]
     },
     "execution_count": 397,
     "metadata": {},
     "output_type": "execute_result"
    }
   ],
   "source": [
    "import pandas as pd\n",
    "feature_imp = pd.Series(clf.feature_importances_,index=X_train.columns).sort_values(ascending=False)\n",
    "feature_imp"
   ]
  },
  {
   "cell_type": "code",
   "execution_count": null,
   "metadata": {},
   "outputs": [],
   "source": [
    "##predicting using important features only :\n"
   ]
  },
  {
   "cell_type": "code",
   "execution_count": 398,
   "metadata": {
    "ExecuteTime": {
     "end_time": "2021-01-12T21:46:54.022882Z",
     "start_time": "2021-01-12T21:46:54.016660Z"
    }
   },
   "outputs": [],
   "source": [
    "y_train=train_v5['Survived']\n",
    "X_train=train_v5[list(set(train_v5.columns)-{'PassengerId','Survived','Embarked_Q','Pclass_med','Embarked_S','Parch'})]\n",
    "X_test=test_v5[list(set(test_v5.columns)-{'PassengerId','Embarked_Q','Pclass_med','Embarked_S','Parch'})]"
   ]
  },
  {
   "cell_type": "code",
   "execution_count": 399,
   "metadata": {
    "ExecuteTime": {
     "end_time": "2021-01-12T21:46:56.284826Z",
     "start_time": "2021-01-12T21:46:56.101111Z"
    }
   },
   "outputs": [
    {
     "data": {
      "text/plain": [
       "RandomForestClassifier()"
      ]
     },
     "execution_count": 399,
     "metadata": {},
     "output_type": "execute_result"
    }
   ],
   "source": [
    "#Import Random Forest Model\n",
    "from sklearn.ensemble import RandomForestClassifier\n",
    "\n",
    "#Create a Gaussian Classifier\n",
    "clf=RandomForestClassifier(n_estimators=100)\n",
    "\n",
    "#Train the model using the training sets y_pred=clf.predict(X_test)\n",
    "clf.fit(X_train,y_train)\n",
    "\n",
    "y_pred=clf.predict(X_test)"
   ]
  },
  {
   "cell_type": "code",
   "execution_count": 400,
   "metadata": {
    "ExecuteTime": {
     "end_time": "2021-01-12T21:46:57.114325Z",
     "start_time": "2021-01-12T21:46:57.111522Z"
    }
   },
   "outputs": [],
   "source": [
    "final_prediction_logistic['Survived']=y_pred"
   ]
  },
  {
   "cell_type": "code",
   "execution_count": 401,
   "metadata": {
    "ExecuteTime": {
     "end_time": "2021-01-12T21:47:02.624867Z",
     "start_time": "2021-01-12T21:47:02.619642Z"
    }
   },
   "outputs": [],
   "source": [
    "final_prediction_logistic.to_csv('Predictions_RF2.csv',index=False)"
   ]
  },
  {
   "cell_type": "markdown",
   "metadata": {},
   "source": [
    "### Decision trees"
   ]
  },
  {
   "cell_type": "code",
   "execution_count": 402,
   "metadata": {
    "ExecuteTime": {
     "end_time": "2021-01-12T21:49:07.668216Z",
     "start_time": "2021-01-12T21:49:07.665641Z"
    }
   },
   "outputs": [],
   "source": [
    "from sklearn.tree import DecisionTreeClassifier # Import Decision Tree Classifier\n",
    "from sklearn import metrics #Import scikit-learn metrics module for accuracy calculation"
   ]
  },
  {
   "cell_type": "code",
   "execution_count": 403,
   "metadata": {
    "ExecuteTime": {
     "end_time": "2021-01-12T21:49:48.851370Z",
     "start_time": "2021-01-12T21:49:48.845164Z"
    }
   },
   "outputs": [],
   "source": [
    "y_train=train_v5['Survived']\n",
    "X_train=train_v5[list(set(train_v5.columns)-{'PassengerId','Survived'})]\n",
    "X_test=test_v5[list(set(test_v5.columns)-{'PassengerId'})]"
   ]
  },
  {
   "cell_type": "code",
   "execution_count": 404,
   "metadata": {
    "ExecuteTime": {
     "end_time": "2021-01-12T21:49:50.785806Z",
     "start_time": "2021-01-12T21:49:50.776826Z"
    }
   },
   "outputs": [],
   "source": [
    "# Create Decision Tree classifer object\n",
    "clf = DecisionTreeClassifier()\n",
    "\n",
    "# Train Decision Tree Classifer\n",
    "clf = clf.fit(X_train,y_train)\n",
    "\n",
    "#Predict the response for test dataset\n",
    "y_pred = clf.predict(X_test)"
   ]
  },
  {
   "cell_type": "code",
   "execution_count": 405,
   "metadata": {
    "ExecuteTime": {
     "end_time": "2021-01-12T21:50:02.425609Z",
     "start_time": "2021-01-12T21:50:02.422721Z"
    }
   },
   "outputs": [],
   "source": [
    "final_prediction_logistic['Survived']=y_pred"
   ]
  },
  {
   "cell_type": "code",
   "execution_count": 406,
   "metadata": {
    "ExecuteTime": {
     "end_time": "2021-01-12T21:50:08.024232Z",
     "start_time": "2021-01-12T21:50:08.018830Z"
    }
   },
   "outputs": [],
   "source": [
    "final_prediction_logistic.to_csv('Predictions_DT.csv',index=False)"
   ]
  },
  {
   "cell_type": "code",
   "execution_count": 410,
   "metadata": {
    "ExecuteTime": {
     "end_time": "2021-01-12T21:51:34.863739Z",
     "start_time": "2021-01-12T21:51:29.424180Z"
    }
   },
   "outputs": [
    {
     "name": "stdout",
     "output_type": "stream",
     "text": [
      "Collecting pydotplus\n",
      "  Downloading pydotplus-2.0.2.tar.gz (278 kB)\n",
      "\u001b[K     |████████████████████████████████| 278 kB 250 kB/s eta 0:00:01\n",
      "\u001b[?25hRequirement already satisfied: pyparsing>=2.0.1 in /opt/anaconda3/lib/python3.8/site-packages (from pydotplus) (2.4.7)\n",
      "Building wheels for collected packages: pydotplus\n",
      "  Building wheel for pydotplus (setup.py) ... \u001b[?25ldone\n",
      "\u001b[?25h  Created wheel for pydotplus: filename=pydotplus-2.0.2-py3-none-any.whl size=24566 sha256=c1f42bb50926d7c0fb07fd5a1a81ac68e2df5f24680af9bc7ad8d8c646ffe14f\n",
      "  Stored in directory: /Users/nramrakh/Library/Caches/pip/wheels/fe/cd/78/a7e873cc049759194f8271f780640cf96b35e5a48bef0e2f36\n",
      "Successfully built pydotplus\n",
      "Installing collected packages: pydotplus\n",
      "Successfully installed pydotplus-2.0.2\n"
     ]
    }
   ],
   "source": [
    "# !pip install graphviz\n",
    "\n",
    "!pip install pydotplus\n",
    "\n"
   ]
  },
  {
   "cell_type": "code",
   "execution_count": 412,
   "metadata": {
    "ExecuteTime": {
     "end_time": "2021-01-12T21:52:22.014932Z",
     "start_time": "2021-01-12T21:52:20.621833Z"
    }
   },
   "outputs": [
    {
     "name": "stdout",
     "output_type": "stream",
     "text": [
      "\u001b[31mERROR: Could not find a version that satisfies the requirement sklearn.externals.six (from versions: none)\u001b[0m\n",
      "\u001b[31mERROR: No matching distribution found for sklearn.externals.six\u001b[0m\n",
      "Note: you may need to restart the kernel to use updated packages.\n"
     ]
    }
   ],
   "source": [
    "# pip install sklearn.externals.six"
   ]
  },
  {
   "cell_type": "code",
   "execution_count": 411,
   "metadata": {
    "ExecuteTime": {
     "end_time": "2021-01-12T21:52:02.171103Z",
     "start_time": "2021-01-12T21:52:02.147979Z"
    }
   },
   "outputs": [
    {
     "ename": "ModuleNotFoundError",
     "evalue": "No module named 'sklearn.externals.six'",
     "output_type": "error",
     "traceback": [
      "\u001b[0;31m---------------------------------------------------------------------------\u001b[0m",
      "\u001b[0;31mModuleNotFoundError\u001b[0m                       Traceback (most recent call last)",
      "\u001b[0;32m<ipython-input-411-e2816f0728af>\u001b[0m in \u001b[0;36m<module>\u001b[0;34m\u001b[0m\n\u001b[1;32m      1\u001b[0m \u001b[0;32mfrom\u001b[0m \u001b[0msklearn\u001b[0m\u001b[0;34m.\u001b[0m\u001b[0mtree\u001b[0m \u001b[0;32mimport\u001b[0m \u001b[0mexport_graphviz\u001b[0m\u001b[0;34m\u001b[0m\u001b[0;34m\u001b[0m\u001b[0m\n\u001b[0;32m----> 2\u001b[0;31m \u001b[0;32mfrom\u001b[0m \u001b[0msklearn\u001b[0m\u001b[0;34m.\u001b[0m\u001b[0mexternals\u001b[0m\u001b[0;34m.\u001b[0m\u001b[0msix\u001b[0m \u001b[0;32mimport\u001b[0m \u001b[0mStringIO\u001b[0m\u001b[0;34m\u001b[0m\u001b[0;34m\u001b[0m\u001b[0m\n\u001b[0m\u001b[1;32m      3\u001b[0m \u001b[0;32mfrom\u001b[0m \u001b[0mIPython\u001b[0m\u001b[0;34m.\u001b[0m\u001b[0mdisplay\u001b[0m \u001b[0;32mimport\u001b[0m \u001b[0mImage\u001b[0m\u001b[0;34m\u001b[0m\u001b[0;34m\u001b[0m\u001b[0m\n\u001b[1;32m      4\u001b[0m \u001b[0;32mimport\u001b[0m \u001b[0mpydotplus\u001b[0m\u001b[0;34m\u001b[0m\u001b[0;34m\u001b[0m\u001b[0m\n\u001b[1;32m      5\u001b[0m \u001b[0;34m\u001b[0m\u001b[0m\n",
      "\u001b[0;31mModuleNotFoundError\u001b[0m: No module named 'sklearn.externals.six'"
     ]
    }
   ],
   "source": [
    "from sklearn.tree import export_graphviz\n",
    "from sklearn.externals.six import StringIO  \n",
    "from IPython.display import Image  \n",
    "import pydotplus\n",
    "\n",
    "dot_data = StringIO()\n",
    "export_graphviz(clf, out_file=dot_data,  \n",
    "                filled=True, rounded=True,\n",
    "                special_characters=True,feature_names = feature_cols,class_names=['0','1'])\n",
    "graph = pydotplus.graph_from_dot_data(dot_data.getvalue())  \n",
    "graph.write_png('diabetes.png')\n",
    "Image(graph.create_png())"
   ]
  },
  {
   "cell_type": "code",
   "execution_count": 152,
   "metadata": {
    "ExecuteTime": {
     "end_time": "2021-01-12T19:23:58.897299Z",
     "start_time": "2021-01-12T19:23:58.882685Z"
    },
    "scrolled": true
   },
   "outputs": [
    {
     "name": "stdout",
     "output_type": "stream",
     "text": [
      "(534, 6)\n",
      "(534, 1)\n",
      "(357, 6)\n",
      "(357, 1)\n"
     ]
    }
   ],
   "source": [
    "# splitting the data to train and Validation:\n",
    "\n",
    "y= train_v2[['Survived']]\n",
    "X= train_v2[[ 'SibSp','Parch', 'Fare', 'EM_flag', 'Cabin_flag', 'Gender']] #removed age because of null values in 18% of the data..\n",
    "\n",
    "\n",
    "X_train, X_test, y_train, y_test = train_test_split(X, y, test_size=0.4, random_state=5)\n",
    "print(X_train.shape)\n",
    "print(y_train.shape)\n",
    "print(X_test.shape)\n",
    "print(y_test.shape)"
   ]
  },
  {
   "cell_type": "code",
   "execution_count": 153,
   "metadata": {
    "ExecuteTime": {
     "end_time": "2021-01-12T19:23:59.239263Z",
     "start_time": "2021-01-12T19:23:59.117304Z"
    },
    "scrolled": true
   },
   "outputs": [
    {
     "data": {
      "text/plain": [
       "'Logistic Regression Model Fitting'"
      ]
     },
     "execution_count": 153,
     "metadata": {},
     "output_type": "execute_result"
    },
    {
     "name": "stderr",
     "output_type": "stream",
     "text": [
      "/opt/anaconda3/lib/python3.8/site-packages/sklearn/utils/validation.py:73: DataConversionWarning: A column-vector y was passed when a 1d array was expected. Please change the shape of y to (n_samples, ), for example using ravel().\n",
      "  return f(**kwargs)\n"
     ]
    },
    {
     "data": {
      "text/plain": [
       "LogisticRegression()"
      ]
     },
     "execution_count": 153,
     "metadata": {},
     "output_type": "execute_result"
    },
    {
     "name": "stdout",
     "output_type": "stream",
     "text": [
      "Accuracy of logistic regression classifier on test set: 0.81\n"
     ]
    }
   ],
   "source": [
    "\"\"\"Logistic Regression Model Fitting\"\"\"\n",
    "from sklearn.linear_model import LogisticRegression\n",
    "from sklearn import metrics\n",
    "logreg = LogisticRegression()\n",
    "logreg.fit(X_train, y_train)\n",
    "\n",
    "#Predicting the test set results and calculating the accuracy\n",
    "y_pred = logreg.predict(X_test)\n",
    "print('Accuracy of logistic regression classifier on test set: {:.2f}'.format(logreg.score(X_test, y_test)))"
   ]
  },
  {
   "cell_type": "code",
   "execution_count": 154,
   "metadata": {
    "ExecuteTime": {
     "end_time": "2021-01-12T19:23:59.968851Z",
     "start_time": "2021-01-12T19:23:59.963065Z"
    },
    "scrolled": false
   },
   "outputs": [
    {
     "name": "stdout",
     "output_type": "stream",
     "text": [
      "[[203  24]\n",
      " [ 43  87]]\n"
     ]
    }
   ],
   "source": [
    "from sklearn.metrics import confusion_matrix\n",
    "confusion_matrix = confusion_matrix(y_test, y_pred)\n",
    "print(confusion_matrix)"
   ]
  },
  {
   "cell_type": "code",
   "execution_count": 155,
   "metadata": {
    "ExecuteTime": {
     "end_time": "2021-01-12T19:24:03.217976Z",
     "start_time": "2021-01-12T19:24:03.208467Z"
    }
   },
   "outputs": [
    {
     "data": {
      "text/plain": [
       "'actual test data prediction'"
      ]
     },
     "execution_count": 155,
     "metadata": {},
     "output_type": "execute_result"
    }
   ],
   "source": [
    "\"\"\"actual test data prediction\"\"\"\n",
    "\n",
    "X_train=train_v2[[ 'SibSp','Parch', 'Fare', 'EM_flag', 'Cabin_flag', 'Gender']]\n",
    "X_test=test_v2[[ 'SibSp','Parch', 'Fare', 'EM_flag', 'Cabin_flag', 'Gender']]\n",
    "y_train= train_v2[['Survived']]"
   ]
  },
  {
   "cell_type": "code",
   "execution_count": 156,
   "metadata": {
    "ExecuteTime": {
     "end_time": "2021-01-12T19:24:04.273134Z",
     "start_time": "2021-01-12T19:24:04.220338Z"
    },
    "scrolled": true
   },
   "outputs": [
    {
     "data": {
      "text/plain": [
       "'Logistic Regression Model Fitting'"
      ]
     },
     "execution_count": 156,
     "metadata": {},
     "output_type": "execute_result"
    },
    {
     "name": "stderr",
     "output_type": "stream",
     "text": [
      "/opt/anaconda3/lib/python3.8/site-packages/sklearn/utils/validation.py:73: DataConversionWarning: A column-vector y was passed when a 1d array was expected. Please change the shape of y to (n_samples, ), for example using ravel().\n",
      "  return f(**kwargs)\n"
     ]
    },
    {
     "data": {
      "text/plain": [
       "LogisticRegression()"
      ]
     },
     "execution_count": 156,
     "metadata": {},
     "output_type": "execute_result"
    },
    {
     "ename": "ValueError",
     "evalue": "Input contains NaN, infinity or a value too large for dtype('float64').",
     "output_type": "error",
     "traceback": [
      "\u001b[0;31m---------------------------------------------------------------------------\u001b[0m",
      "\u001b[0;31mValueError\u001b[0m                                Traceback (most recent call last)",
      "\u001b[0;32m<ipython-input-156-80512cbfc9d4>\u001b[0m in \u001b[0;36m<module>\u001b[0;34m\u001b[0m\n\u001b[1;32m      6\u001b[0m \u001b[0;34m\u001b[0m\u001b[0m\n\u001b[1;32m      7\u001b[0m \u001b[0;31m#Predicting the test set results and calculating the accuracy\u001b[0m\u001b[0;34m\u001b[0m\u001b[0;34m\u001b[0m\u001b[0;34m\u001b[0m\u001b[0m\n\u001b[0;32m----> 8\u001b[0;31m \u001b[0my_pred\u001b[0m \u001b[0;34m=\u001b[0m \u001b[0mlogreg\u001b[0m\u001b[0;34m.\u001b[0m\u001b[0mpredict\u001b[0m\u001b[0;34m(\u001b[0m\u001b[0mX_test\u001b[0m\u001b[0;34m)\u001b[0m\u001b[0;34m\u001b[0m\u001b[0;34m\u001b[0m\u001b[0m\n\u001b[0m",
      "\u001b[0;32m/opt/anaconda3/lib/python3.8/site-packages/sklearn/linear_model/_base.py\u001b[0m in \u001b[0;36mpredict\u001b[0;34m(self, X)\u001b[0m\n\u001b[1;32m    305\u001b[0m             \u001b[0mPredicted\u001b[0m \u001b[0;32mclass\u001b[0m \u001b[0mlabel\u001b[0m \u001b[0mper\u001b[0m \u001b[0msample\u001b[0m\u001b[0;34m.\u001b[0m\u001b[0;34m\u001b[0m\u001b[0;34m\u001b[0m\u001b[0m\n\u001b[1;32m    306\u001b[0m         \"\"\"\n\u001b[0;32m--> 307\u001b[0;31m         \u001b[0mscores\u001b[0m \u001b[0;34m=\u001b[0m \u001b[0mself\u001b[0m\u001b[0;34m.\u001b[0m\u001b[0mdecision_function\u001b[0m\u001b[0;34m(\u001b[0m\u001b[0mX\u001b[0m\u001b[0;34m)\u001b[0m\u001b[0;34m\u001b[0m\u001b[0;34m\u001b[0m\u001b[0m\n\u001b[0m\u001b[1;32m    308\u001b[0m         \u001b[0;32mif\u001b[0m \u001b[0mlen\u001b[0m\u001b[0;34m(\u001b[0m\u001b[0mscores\u001b[0m\u001b[0;34m.\u001b[0m\u001b[0mshape\u001b[0m\u001b[0;34m)\u001b[0m \u001b[0;34m==\u001b[0m \u001b[0;36m1\u001b[0m\u001b[0;34m:\u001b[0m\u001b[0;34m\u001b[0m\u001b[0;34m\u001b[0m\u001b[0m\n\u001b[1;32m    309\u001b[0m             \u001b[0mindices\u001b[0m \u001b[0;34m=\u001b[0m \u001b[0;34m(\u001b[0m\u001b[0mscores\u001b[0m \u001b[0;34m>\u001b[0m \u001b[0;36m0\u001b[0m\u001b[0;34m)\u001b[0m\u001b[0;34m.\u001b[0m\u001b[0mastype\u001b[0m\u001b[0;34m(\u001b[0m\u001b[0mnp\u001b[0m\u001b[0;34m.\u001b[0m\u001b[0mint\u001b[0m\u001b[0;34m)\u001b[0m\u001b[0;34m\u001b[0m\u001b[0;34m\u001b[0m\u001b[0m\n",
      "\u001b[0;32m/opt/anaconda3/lib/python3.8/site-packages/sklearn/linear_model/_base.py\u001b[0m in \u001b[0;36mdecision_function\u001b[0;34m(self, X)\u001b[0m\n\u001b[1;32m    280\u001b[0m         \u001b[0mcheck_is_fitted\u001b[0m\u001b[0;34m(\u001b[0m\u001b[0mself\u001b[0m\u001b[0;34m)\u001b[0m\u001b[0;34m\u001b[0m\u001b[0;34m\u001b[0m\u001b[0m\n\u001b[1;32m    281\u001b[0m \u001b[0;34m\u001b[0m\u001b[0m\n\u001b[0;32m--> 282\u001b[0;31m         \u001b[0mX\u001b[0m \u001b[0;34m=\u001b[0m \u001b[0mcheck_array\u001b[0m\u001b[0;34m(\u001b[0m\u001b[0mX\u001b[0m\u001b[0;34m,\u001b[0m \u001b[0maccept_sparse\u001b[0m\u001b[0;34m=\u001b[0m\u001b[0;34m'csr'\u001b[0m\u001b[0;34m)\u001b[0m\u001b[0;34m\u001b[0m\u001b[0;34m\u001b[0m\u001b[0m\n\u001b[0m\u001b[1;32m    283\u001b[0m \u001b[0;34m\u001b[0m\u001b[0m\n\u001b[1;32m    284\u001b[0m         \u001b[0mn_features\u001b[0m \u001b[0;34m=\u001b[0m \u001b[0mself\u001b[0m\u001b[0;34m.\u001b[0m\u001b[0mcoef_\u001b[0m\u001b[0;34m.\u001b[0m\u001b[0mshape\u001b[0m\u001b[0;34m[\u001b[0m\u001b[0;36m1\u001b[0m\u001b[0;34m]\u001b[0m\u001b[0;34m\u001b[0m\u001b[0;34m\u001b[0m\u001b[0m\n",
      "\u001b[0;32m/opt/anaconda3/lib/python3.8/site-packages/sklearn/utils/validation.py\u001b[0m in \u001b[0;36minner_f\u001b[0;34m(*args, **kwargs)\u001b[0m\n\u001b[1;32m     71\u001b[0m                           FutureWarning)\n\u001b[1;32m     72\u001b[0m         \u001b[0mkwargs\u001b[0m\u001b[0;34m.\u001b[0m\u001b[0mupdate\u001b[0m\u001b[0;34m(\u001b[0m\u001b[0;34m{\u001b[0m\u001b[0mk\u001b[0m\u001b[0;34m:\u001b[0m \u001b[0marg\u001b[0m \u001b[0;32mfor\u001b[0m \u001b[0mk\u001b[0m\u001b[0;34m,\u001b[0m \u001b[0marg\u001b[0m \u001b[0;32min\u001b[0m \u001b[0mzip\u001b[0m\u001b[0;34m(\u001b[0m\u001b[0msig\u001b[0m\u001b[0;34m.\u001b[0m\u001b[0mparameters\u001b[0m\u001b[0;34m,\u001b[0m \u001b[0margs\u001b[0m\u001b[0;34m)\u001b[0m\u001b[0;34m}\u001b[0m\u001b[0;34m)\u001b[0m\u001b[0;34m\u001b[0m\u001b[0;34m\u001b[0m\u001b[0m\n\u001b[0;32m---> 73\u001b[0;31m         \u001b[0;32mreturn\u001b[0m \u001b[0mf\u001b[0m\u001b[0;34m(\u001b[0m\u001b[0;34m**\u001b[0m\u001b[0mkwargs\u001b[0m\u001b[0;34m)\u001b[0m\u001b[0;34m\u001b[0m\u001b[0;34m\u001b[0m\u001b[0m\n\u001b[0m\u001b[1;32m     74\u001b[0m     \u001b[0;32mreturn\u001b[0m \u001b[0minner_f\u001b[0m\u001b[0;34m\u001b[0m\u001b[0;34m\u001b[0m\u001b[0m\n\u001b[1;32m     75\u001b[0m \u001b[0;34m\u001b[0m\u001b[0m\n",
      "\u001b[0;32m/opt/anaconda3/lib/python3.8/site-packages/sklearn/utils/validation.py\u001b[0m in \u001b[0;36mcheck_array\u001b[0;34m(array, accept_sparse, accept_large_sparse, dtype, order, copy, force_all_finite, ensure_2d, allow_nd, ensure_min_samples, ensure_min_features, estimator)\u001b[0m\n\u001b[1;32m    643\u001b[0m \u001b[0;34m\u001b[0m\u001b[0m\n\u001b[1;32m    644\u001b[0m         \u001b[0;32mif\u001b[0m \u001b[0mforce_all_finite\u001b[0m\u001b[0;34m:\u001b[0m\u001b[0;34m\u001b[0m\u001b[0;34m\u001b[0m\u001b[0m\n\u001b[0;32m--> 645\u001b[0;31m             _assert_all_finite(array,\n\u001b[0m\u001b[1;32m    646\u001b[0m                                allow_nan=force_all_finite == 'allow-nan')\n\u001b[1;32m    647\u001b[0m \u001b[0;34m\u001b[0m\u001b[0m\n",
      "\u001b[0;32m/opt/anaconda3/lib/python3.8/site-packages/sklearn/utils/validation.py\u001b[0m in \u001b[0;36m_assert_all_finite\u001b[0;34m(X, allow_nan, msg_dtype)\u001b[0m\n\u001b[1;32m     95\u001b[0m                 not allow_nan and not np.isfinite(X).all()):\n\u001b[1;32m     96\u001b[0m             \u001b[0mtype_err\u001b[0m \u001b[0;34m=\u001b[0m \u001b[0;34m'infinity'\u001b[0m \u001b[0;32mif\u001b[0m \u001b[0mallow_nan\u001b[0m \u001b[0;32melse\u001b[0m \u001b[0;34m'NaN, infinity'\u001b[0m\u001b[0;34m\u001b[0m\u001b[0;34m\u001b[0m\u001b[0m\n\u001b[0;32m---> 97\u001b[0;31m             raise ValueError(\n\u001b[0m\u001b[1;32m     98\u001b[0m                     \u001b[0mmsg_err\u001b[0m\u001b[0;34m.\u001b[0m\u001b[0mformat\u001b[0m\u001b[0;34m\u001b[0m\u001b[0;34m\u001b[0m\u001b[0m\n\u001b[1;32m     99\u001b[0m                     (type_err,\n",
      "\u001b[0;31mValueError\u001b[0m: Input contains NaN, infinity or a value too large for dtype('float64')."
     ]
    }
   ],
   "source": [
    "\"\"\"Logistic Regression Model Fitting\"\"\"\n",
    "from sklearn.linear_model import LogisticRegression\n",
    "from sklearn import metrics\n",
    "logreg = LogisticRegression()\n",
    "logreg.fit(X_train, y_train)\n",
    "\n",
    "#Predicting the test set results and calculating the accuracy\n",
    "y_pred = logreg.predict(X_test)"
   ]
  },
  {
   "cell_type": "code",
   "execution_count": 157,
   "metadata": {
    "ExecuteTime": {
     "end_time": "2021-01-12T19:24:12.807086Z",
     "start_time": "2021-01-12T19:24:12.803066Z"
    }
   },
   "outputs": [
    {
     "data": {
      "text/plain": [
       "Index(['PassengerId', 'Pclass', 'Name', 'Sex', 'Age', 'SibSp', 'Parch',\n",
       "       'Ticket', 'Fare', 'Cabin', 'Embarked', 'Cabin_flag', 'Gender',\n",
       "       'EM_flag'],\n",
       "      dtype='object')"
      ]
     },
     "execution_count": 157,
     "metadata": {},
     "output_type": "execute_result"
    }
   ],
   "source": [
    "test_v2.columns"
   ]
  },
  {
   "cell_type": "code",
   "execution_count": 135,
   "metadata": {},
   "outputs": [],
   "source": [
    "Output=test_v2[['PassengerId']].copy()\n",
    "Output['Survived']=pd.DataFrame(y_pred)\n"
   ]
  },
  {
   "cell_type": "code",
   "execution_count": 137,
   "metadata": {},
   "outputs": [],
   "source": [
    "pd.DataFrame(Output).to_csv('/personal/Python Projects/Titanic/data/Predicted_log_v1.csv', index=False)"
   ]
  }
 ],
 "metadata": {
  "kernelspec": {
   "display_name": "Python 3",
   "language": "python",
   "name": "python3"
  },
  "language_info": {
   "codemirror_mode": {
    "name": "ipython",
    "version": 3
   },
   "file_extension": ".py",
   "mimetype": "text/x-python",
   "name": "python",
   "nbconvert_exporter": "python",
   "pygments_lexer": "ipython3",
   "version": "3.8.8"
  },
  "toc": {
   "base_numbering": 1,
   "nav_menu": {},
   "number_sections": true,
   "sideBar": true,
   "skip_h1_title": false,
   "title_cell": "Table of Contents",
   "title_sidebar": "Contents",
   "toc_cell": false,
   "toc_position": {},
   "toc_section_display": true,
   "toc_window_display": false
  }
 },
 "nbformat": 4,
 "nbformat_minor": 2
}
